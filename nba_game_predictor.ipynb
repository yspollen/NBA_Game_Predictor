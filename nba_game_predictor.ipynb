{
  "cells": [
    {
      "cell_type": "code",
      "source": [
        "!pip install nba_api"
      ],
      "metadata": {
        "id": "hyu-hFHTlmdh",
        "outputId": "f3a71278-bd29-43d2-b96e-0e3071ea3d1b",
        "colab": {
          "base_uri": "https://localhost:8080/"
        }
      },
      "execution_count": 1,
      "outputs": [
        {
          "output_type": "stream",
          "name": "stdout",
          "text": [
            "Collecting nba_api\n",
            "  Downloading nba_api-1.7.0-py3-none-any.whl.metadata (5.5 kB)\n",
            "Requirement already satisfied: numpy<2.0.0,>=1.22.2 in /usr/local/lib/python3.11/dist-packages (from nba_api) (1.26.4)\n",
            "Requirement already satisfied: requests<3.0.0,>=2.32.3 in /usr/local/lib/python3.11/dist-packages (from nba_api) (2.32.3)\n",
            "Requirement already satisfied: charset-normalizer<4,>=2 in /usr/local/lib/python3.11/dist-packages (from requests<3.0.0,>=2.32.3->nba_api) (3.4.1)\n",
            "Requirement already satisfied: idna<4,>=2.5 in /usr/local/lib/python3.11/dist-packages (from requests<3.0.0,>=2.32.3->nba_api) (3.10)\n",
            "Requirement already satisfied: urllib3<3,>=1.21.1 in /usr/local/lib/python3.11/dist-packages (from requests<3.0.0,>=2.32.3->nba_api) (2.3.0)\n",
            "Requirement already satisfied: certifi>=2017.4.17 in /usr/local/lib/python3.11/dist-packages (from requests<3.0.0,>=2.32.3->nba_api) (2024.12.14)\n",
            "Downloading nba_api-1.7.0-py3-none-any.whl (280 kB)\n",
            "\u001b[2K   \u001b[90m━━━━━━━━━━━━━━━━━━━━━━━━━━━━━━━━━━━━━━━━\u001b[0m \u001b[32m280.2/280.2 kB\u001b[0m \u001b[31m5.7 MB/s\u001b[0m eta \u001b[36m0:00:00\u001b[0m\n",
            "\u001b[?25hInstalling collected packages: nba_api\n",
            "Successfully installed nba_api-1.7.0\n"
          ]
        }
      ]
    },
    {
      "cell_type": "code",
      "source": [
        "from nba_api.stats.endpoints import leaguegamefinder\n",
        "import pandas as pd\n",
        "\n",
        "# Use LeagueGameFinder to fetch historical games\n",
        "game_finder = leaguegamefinder.LeagueGameFinder()\n",
        "games = game_finder.get_data_frames()[0]  # Get the first DataFrame\n",
        "\n",
        "# List of NBA team abbreviations (exclude G League teams)\n",
        "nba_team_abbreviations = [\n",
        "    'ATL', 'BOS', 'BKN', 'CHA', 'CHI', 'CLE', 'DAL', 'DEN', 'DET', 'GSW',\n",
        "    'HOU', 'IND', 'LAC', 'LAL', 'MEM', 'MIA', 'MIL', 'MIN', 'NOP', 'NYK',\n",
        "    'OKC', 'ORL', 'PHI', 'PHX', 'POR', 'SAC', 'SAS', 'TOR', 'UTA', 'WAS'\n",
        "]\n",
        "\n",
        "# Filter out G League games by keeping only NBA team abbreviations\n",
        "nba_games = games[games['TEAM_ABBREVIATION'].isin(nba_team_abbreviations)]\n",
        "\n",
        "# Sort games by date (most recent first)\n",
        "nba_games['GAME_DATE'] = pd.to_datetime(nba_games['GAME_DATE'])\n",
        "nba_games = nba_games.sort_values(by='GAME_DATE', ascending=False)\n",
        "\n",
        "# Filter to the last 100 NBA games\n",
        "last_200_nba_games = nba_games.head(200)\n",
        "\n",
        "# Save to a CSV file (optional)\n",
        "last_200_nba_games.to_csv('last_200_nba_games.csv', index=False)\n",
        "\n",
        "# Display the DataFrame\n",
        "print(last_200_nba_games.head())"
      ],
      "metadata": {
        "id": "AkdIenGfmJCb",
        "outputId": "1f61cdef-4cd1-4158-fb26-6f3a8bae5d35",
        "colab": {
          "base_uri": "https://localhost:8080/"
        }
      },
      "execution_count": 3,
      "outputs": [
        {
          "output_type": "stream",
          "name": "stdout",
          "text": [
            "   SEASON_ID     TEAM_ID TEAM_ABBREVIATION               TEAM_NAME  \\\n",
            "0      22024  1610612764               WAS      Washington Wizards   \n",
            "11     22024  1610612762               UTA               Utah Jazz   \n",
            "16     22024  1610612750               MIN  Minnesota Timberwolves   \n",
            "15     22024  1610612763               MEM       Memphis Grizzlies   \n",
            "12     22024  1610612747               LAL      Los Angeles Lakers   \n",
            "\n",
            "       GAME_ID  GAME_DATE      MATCHUP WL  MIN  PTS  ...  FT_PCT  OREB  DREB  \\\n",
            "0   0022400674 2025-01-30  WAS vs. LAL  L  240   96  ...   0.824    12    26   \n",
            "11  0022400677 2025-01-30  UTA vs. MIN  L  240  113  ...   0.840     3    20   \n",
            "16  0022400677 2025-01-30    MIN @ UTA  W  240  138  ...   0.792     9    30   \n",
            "15  0022400676 2025-01-30  MEM vs. HOU  W  239  120  ...   0.750     9    28   \n",
            "12  0022400674 2025-01-30    LAL @ WAS  W  241  134  ...   0.955     9    39   \n",
            "\n",
            "    REB  AST  STL  BLK  TOV  PF  PLUS_MINUS  \n",
            "0    38   18    4    6   13  18       -38.0  \n",
            "11   23   21    6    4   15  20       -25.0  \n",
            "16   39   38    5    9   12  18        25.0  \n",
            "15   37   23    7    6   11  25         1.0  \n",
            "12   48   31    9    6   11  24        38.0  \n",
            "\n",
            "[5 rows x 28 columns]\n"
          ]
        },
        {
          "output_type": "stream",
          "name": "stderr",
          "text": [
            "<ipython-input-3-2bf4c58f7bda>:19: SettingWithCopyWarning: \n",
            "A value is trying to be set on a copy of a slice from a DataFrame.\n",
            "Try using .loc[row_indexer,col_indexer] = value instead\n",
            "\n",
            "See the caveats in the documentation: https://pandas.pydata.org/pandas-docs/stable/user_guide/indexing.html#returning-a-view-versus-a-copy\n",
            "  nba_games['GAME_DATE'] = pd.to_datetime(nba_games['GAME_DATE'])\n"
          ]
        }
      ]
    },
    {
      "cell_type": "code",
      "source": [
        "import pandas as pd\n",
        "\n",
        "# Load the last 100 NBA games (if not already loaded)\n",
        "last_200_nba_games = pd.read_csv('last_200_nba_games.csv')\n",
        "\n",
        "# Group by game ID\n",
        "grouped_games = last_200_nba_games.groupby('GAME_ID')\n",
        "\n",
        "# Initialize a list to store training data\n",
        "training_data = []\n",
        "\n",
        "# Loop through each game\n",
        "for game_id, game_data in grouped_games:\n",
        "    # Ensure there are exactly 2 rows (one for each team)\n",
        "    if len(game_data) != 2:\n",
        "        continue\n",
        "\n",
        "    # Extract stats for both teams\n",
        "    team1 = game_data.iloc[0]\n",
        "    team2 = game_data.iloc[1]\n",
        "\n",
        "    # Create composite stats for each team\n",
        "    team1_stats = {\n",
        "        'TEAM': team1['TEAM_ABBREVIATION'],\n",
        "        'REB': team1['REB'],\n",
        "        'AST': team1['AST'],\n",
        "        'STL': team1['STL'],\n",
        "        'BLK': team1['BLK'],\n",
        "        'TOV': team1['TOV'],\n",
        "        'FG_PCT': team1['FG_PCT'],\n",
        "        '3P_PCT': team1['FG3_PCT'],\n",
        "        'FT_PCT': team1['FT_PCT']\n",
        "    }\n",
        "\n",
        "    team2_stats = {\n",
        "        'TEAM': team2['TEAM_ABBREVIATION'],\n",
        "        'REB': team2['REB'],\n",
        "        'AST': team2['AST'],\n",
        "        'STL': team2['STL'],\n",
        "        'BLK': team2['BLK'],\n",
        "        'TOV': team2['TOV'],\n",
        "        'FG_PCT': team2['FG_PCT'],\n",
        "        '3P_PCT': team2['FG3_PCT'],\n",
        "        'FT_PCT': team2['FT_PCT']\n",
        "    }\n",
        "\n",
        "    # Determine the game outcome (1 if team1 wins, 0 if team2 wins)\n",
        "    if team1['WL'] == 'W':\n",
        "        outcome = 1\n",
        "    else:\n",
        "        outcome = 0\n",
        "\n",
        "    # Combine stats into a single row for training\n",
        "    training_row = {\n",
        "        'GAME_ID': game_id,\n",
        "        'TEAM1': team1_stats['TEAM'],\n",
        "        'TEAM2': team2_stats['TEAM'],\n",
        "        'TEAM1_REB': team1_stats['REB'],\n",
        "        'TEAM2_REB': team2_stats['REB'],\n",
        "        'TEAM1_AST': team1_stats['AST'],\n",
        "        'TEAM2_AST': team2_stats['AST'],\n",
        "        'TEAM1_STL': team1_stats['STL'],\n",
        "        'TEAM2_STL': team2_stats['STL'],\n",
        "        'TEAM1_BLK': team1_stats['BLK'],\n",
        "        'TEAM2_BLK': team2_stats['BLK'],\n",
        "        'TEAM1_TOV': team1_stats['TOV'],\n",
        "        'TEAM2_TOV': team2_stats['TOV'],\n",
        "        'TEAM1_FG_PCT': team1_stats['FG_PCT'],\n",
        "        'TEAM2_FG_PCT': team2_stats['FG_PCT'],\n",
        "        'TEAM1_3P_PCT': team1_stats['3P_PCT'],\n",
        "        'TEAM2_3P_PCT': team2_stats['3P_PCT'],\n",
        "        'TEAM1_FT_PCT': team1_stats['FT_PCT'],\n",
        "        'TEAM2_FT_PCT': team2_stats['FT_PCT'],\n",
        "        'OUTCOME': outcome\n",
        "    }\n",
        "\n",
        "    # Append to the training data\n",
        "    training_data.append(training_row)\n",
        "\n",
        "# Convert the training data to a DataFrame\n",
        "training_df = pd.DataFrame(training_data)\n",
        "\n",
        "# Save to a CSV file (optional)\n",
        "training_df.to_csv('nba_training_data.csv', index=False)\n",
        "\n",
        "# Display the DataFrame\n",
        "print(training_df.head())"
      ],
      "metadata": {
        "id": "NzE4NRV3mkwS",
        "outputId": "8b84b402-1c4c-41da-8ab4-914a611d7579",
        "colab": {
          "base_uri": "https://localhost:8080/"
        }
      },
      "execution_count": 4,
      "outputs": [
        {
          "output_type": "stream",
          "name": "stdout",
          "text": [
            "    GAME_ID TEAM1 TEAM2  TEAM1_REB  TEAM2_REB  TEAM1_AST  TEAM2_AST  \\\n",
            "0  22400532   HOU   ATL         44         40         19         19   \n",
            "1  22400578   NYK   MIN         41         46         19         23   \n",
            "2  22400581   UTA   NOP         40         56         30         34   \n",
            "3  22400582   MEM   SAS         41         40         39         29   \n",
            "4  22400583   DAL   OKC         43         46         25         24   \n",
            "\n",
            "   TEAM1_STL  TEAM2_STL  TEAM1_BLK  TEAM2_BLK  TEAM1_TOV  TEAM2_TOV  \\\n",
            "0         12         11          4          5         21         16   \n",
            "1         10          5          4          2          9         15   \n",
            "2          7          9          8          8         15         13   \n",
            "3          9          4          0          8          7         17   \n",
            "4         11          7          7          2         17         15   \n",
            "\n",
            "   TEAM1_FG_PCT  TEAM2_FG_PCT  TEAM1_3P_PCT  TEAM2_3P_PCT  TEAM1_FT_PCT  \\\n",
            "0         0.468         0.404         0.233         0.234         0.950   \n",
            "1         0.389         0.532         0.412         0.550         0.882   \n",
            "2         0.500         0.470         0.342         0.440         0.800   \n",
            "3         0.567         0.476         0.432         0.361         0.733   \n",
            "4         0.493         0.385         0.390         0.435         0.727   \n",
            "\n",
            "   TEAM2_FT_PCT  OUTCOME  \n",
            "0         0.813        1  \n",
            "1         0.714        0  \n",
            "2         0.645        0  \n",
            "3         0.826        1  \n",
            "4         0.667        1  \n"
          ]
        }
      ]
    },
    {
      "cell_type": "code",
      "source": [
        "# Features (X) and labels (y)\n",
        "X = training_df.drop(columns=['GAME_ID', 'TEAM1', 'TEAM2', 'OUTCOME'])  # Drop non-feature columns\n",
        "y = training_df['OUTCOME']  # Labels (1 if TEAM1 wins, 0 if TEAM2 wins)\n",
        "\n",
        "# Check for missing values\n",
        "print(X.isnull().sum())  # Ensure there are no missing values\n",
        "\n",
        "# If there are missing values, handle them (e.g., fill with mean)\n",
        "X = X.fillna(X.mean())"
      ],
      "metadata": {
        "colab": {
          "base_uri": "https://localhost:8080/"
        },
        "id": "eG1U_rSWpeOM",
        "outputId": "16adc855-9977-4f7c-d75f-9080c26227cf"
      },
      "execution_count": 5,
      "outputs": [
        {
          "output_type": "stream",
          "name": "stdout",
          "text": [
            "TEAM1_REB       0\n",
            "TEAM2_REB       0\n",
            "TEAM1_AST       0\n",
            "TEAM2_AST       0\n",
            "TEAM1_STL       0\n",
            "TEAM2_STL       0\n",
            "TEAM1_BLK       0\n",
            "TEAM2_BLK       0\n",
            "TEAM1_TOV       0\n",
            "TEAM2_TOV       0\n",
            "TEAM1_FG_PCT    0\n",
            "TEAM2_FG_PCT    0\n",
            "TEAM1_3P_PCT    0\n",
            "TEAM2_3P_PCT    0\n",
            "TEAM1_FT_PCT    0\n",
            "TEAM2_FT_PCT    0\n",
            "dtype: int64\n"
          ]
        }
      ]
    },
    {
      "cell_type": "code",
      "source": [
        "from sklearn.model_selection import train_test_split\n",
        "\n",
        "# Split the data\n",
        "X_train, X_test, y_train, y_test = train_test_split(X, y, test_size=0.2, random_state=42)\n",
        "\n",
        "print(f\"Training set size: {X_train.shape}\")\n",
        "print(f\"Testing set size: {X_test.shape}\")"
      ],
      "metadata": {
        "colab": {
          "base_uri": "https://localhost:8080/"
        },
        "id": "5lAF9FavprEv",
        "outputId": "b16d4344-149c-4217-d2d3-c424ab1c0e50"
      },
      "execution_count": 6,
      "outputs": [
        {
          "output_type": "stream",
          "name": "stdout",
          "text": [
            "Training set size: (78, 16)\n",
            "Testing set size: (20, 16)\n"
          ]
        }
      ]
    },
    {
      "cell_type": "code",
      "source": [
        "from sklearn.ensemble import RandomForestClassifier\n",
        "from sklearn.metrics import accuracy_score, classification_report, confusion_matrix\n",
        "\n",
        "# Initialize the model\n",
        "model = RandomForestClassifier(n_estimators=100, random_state=42)\n",
        "\n",
        "# Train the model\n",
        "model.fit(X_train, y_train)\n",
        "\n",
        "# Make predictions on the test set\n",
        "y_pred = model.predict(X_test)\n",
        "\n",
        "# Evaluate the model\n",
        "accuracy = accuracy_score(y_test, y_pred)\n",
        "print(f\"Accuracy: {accuracy:.2f}\")\n",
        "\n",
        "# Classification report\n",
        "print(\"\\nClassification Report:\")\n",
        "print(classification_report(y_test, y_pred))\n",
        "\n",
        "# Confusion matrix\n",
        "print(\"\\nConfusion Matrix:\")\n",
        "print(confusion_matrix(y_test, y_pred))"
      ],
      "metadata": {
        "colab": {
          "base_uri": "https://localhost:8080/"
        },
        "id": "0iWVYSEipuS6",
        "outputId": "e8826555-1037-49d3-f701-4f497fc7fa82"
      },
      "execution_count": 7,
      "outputs": [
        {
          "output_type": "stream",
          "name": "stdout",
          "text": [
            "Accuracy: 0.95\n",
            "\n",
            "Classification Report:\n",
            "              precision    recall  f1-score   support\n",
            "\n",
            "           0       1.00      0.92      0.96        12\n",
            "           1       0.89      1.00      0.94         8\n",
            "\n",
            "    accuracy                           0.95        20\n",
            "   macro avg       0.94      0.96      0.95        20\n",
            "weighted avg       0.96      0.95      0.95        20\n",
            "\n",
            "\n",
            "Confusion Matrix:\n",
            "[[11  1]\n",
            " [ 0  8]]\n"
          ]
        }
      ]
    },
    {
      "cell_type": "code",
      "source": [
        "import matplotlib.pyplot as plt\n",
        "\n",
        "# Get feature importances\n",
        "importances = model.feature_importances_\n",
        "feature_names = X.columns\n",
        "\n",
        "# Create a DataFrame for visualization\n",
        "feature_importance_df = pd.DataFrame({'Feature': feature_names, 'Importance': importances})\n",
        "feature_importance_df = feature_importance_df.sort_values(by='Importance', ascending=False)\n",
        "\n",
        "# Plot feature importances\n",
        "plt.figure(figsize=(10, 6))\n",
        "plt.barh(feature_importance_df['Feature'], feature_importance_df['Importance'])\n",
        "plt.xlabel('Importance')\n",
        "plt.ylabel('Feature')\n",
        "plt.title('Feature Importance')\n",
        "plt.show()"
      ],
      "metadata": {
        "colab": {
          "base_uri": "https://localhost:8080/",
          "height": 564
        },
        "id": "PQIHDaV3p67k",
        "outputId": "5267786b-6e23-4c54-e935-abc6189b0af1"
      },
      "execution_count": 8,
      "outputs": [
        {
          "output_type": "display_data",
          "data": {
            "text/plain": [
              "<Figure size 1000x600 with 1 Axes>"
            ],
            "image/png": "[encoded data removed]"
          },
          "metadata": {}
        }
      ]
    },
    {
      "cell_type": "code",
      "source": [
        "# Example: New game stats (replace with actual data)\n",
        "new_game_stats = {\n",
        "    'TEAM1_REB': 45, 'TEAM2_REB': 42,\n",
        "    'TEAM1_AST': 25, 'TEAM2_AST': 23,\n",
        "    'TEAM1_STL': 8, 'TEAM2_STL': 7,\n",
        "    'TEAM1_BLK': 5, 'TEAM2_BLK': 4,\n",
        "    'TEAM1_TOV': 12, 'TEAM2_TOV': 14,\n",
        "    'TEAM1_FG_PCT': 0.494, 'TEAM2_FG_PCT': 0.455,\n",
        "    'TEAM1_3P_PCT': 0.380, 'TEAM2_3P_PCT': 0.350,\n",
        "    'TEAM1_FT_PCT': 0.800, 'TEAM2_FT_PCT': 0.750\n",
        "}\n",
        "\n",
        "# Convert to DataFrame\n",
        "new_game_df = pd.DataFrame([new_game_stats])\n",
        "\n",
        "# Make prediction\n",
        "prediction = model.predict_proba(new_game_df)\n",
        "print(f\"Probability of TEAM1 winning: {prediction[0][1]:.2f}\")\n",
        "print(f\"Probability of TEAM2 winning: {prediction[0][0]:.2f}\")"
      ],
      "metadata": {
        "colab": {
          "base_uri": "https://localhost:8080/"
        },
        "id": "r0feHRQFqFa6",
        "outputId": "93ca64ec-e4fa-42c2-bc10-6809d29928ed"
      },
      "execution_count": 9,
      "outputs": [
        {
          "output_type": "stream",
          "name": "stdout",
          "text": [
            "Probability of TEAM1 winning: 0.91\n",
            "Probability of TEAM2 winning: 0.09\n"
          ]
        }
      ]
    },
    {
      "cell_type": "code",
      "source": [
        "import joblib\n",
        "\n",
        "# Save the model\n",
        "joblib.dump(model, 'nba_game_predictor.pkl')\n",
        "\n",
        "# Load the model (in the future)\n",
        "# model = joblib.load('nba_game_predictor.pkl')"
      ],
      "metadata": {
        "colab": {
          "base_uri": "https://localhost:8080/"
        },
        "id": "xLPStGlTqLKp",
        "outputId": "1e5ad8c7-cfd1-4a3e-a8ba-a392700b0640"
      },
      "execution_count": 10,
      "outputs": [
        {
          "output_type": "execute_result",
          "data": {
            "text/plain": [
              "['nba_game_predictor.pkl']"
            ]
          },
          "metadata": {},
          "execution_count": 10
        }
      ]
    },
    {
      "cell_type": "code",
      "source": [
        "!pip install nba_api\n",
        "from nba_api.live.nba.endpoints import scoreboard\n",
        "\n",
        "# Fetch upcoming games\n",
        "scoreboard_data = scoreboard.ScoreBoard()\n",
        "upcoming_games = scoreboard_data.games.get_dict()\n",
        "\n",
        "# Display upcoming games\n",
        "for game in upcoming_games:\n",
        "    home_team = game['homeTeam']['teamName']\n",
        "    away_team = game['awayTeam']['teamName']\n",
        "    game_time = game['gameTimeUTC']\n",
        "    print(f\"{away_team} @ {home_team} - {game_time}\")"
      ],
      "metadata": {
        "colab": {
          "base_uri": "https://localhost:8080/"
        },
        "id": "-mVXX1cQrAKa",
        "outputId": "719440dc-8bfe-469a-be24-24440b180df2"
      },
      "execution_count": 11,
      "outputs": [
        {
          "output_type": "stream",
          "name": "stdout",
          "text": [
            "Requirement already satisfied: nba_api in /usr/local/lib/python3.11/dist-packages (1.7.0)\n",
            "Requirement already satisfied: numpy<2.0.0,>=1.22.2 in /usr/local/lib/python3.11/dist-packages (from nba_api) (1.26.4)\n",
            "Requirement already satisfied: requests<3.0.0,>=2.32.3 in /usr/local/lib/python3.11/dist-packages (from nba_api) (2.32.3)\n",
            "Requirement already satisfied: charset-normalizer<4,>=2 in /usr/local/lib/python3.11/dist-packages (from requests<3.0.0,>=2.32.3->nba_api) (3.4.1)\n",
            "Requirement already satisfied: idna<4,>=2.5 in /usr/local/lib/python3.11/dist-packages (from requests<3.0.0,>=2.32.3->nba_api) (3.10)\n",
            "Requirement already satisfied: urllib3<3,>=1.21.1 in /usr/local/lib/python3.11/dist-packages (from requests<3.0.0,>=2.32.3->nba_api) (2.3.0)\n",
            "Requirement already satisfied: certifi>=2017.4.17 in /usr/local/lib/python3.11/dist-packages (from requests<3.0.0,>=2.32.3->nba_api) (2024.12.14)\n",
            "Clippers @ Hornets - 2025-02-01T00:00:00Z\n",
            "Mavericks @ Pistons - 2025-02-01T00:00:00Z\n",
            "Nuggets @ 76ers - 2025-02-01T00:30:00Z\n",
            "Bulls @ Raptors - 2025-02-01T00:30:00Z\n",
            "Celtics @ Pelicans - 2025-02-01T01:00:00Z\n",
            "Bucks @ Spurs - 2025-02-01T01:00:00Z\n",
            "Suns @ Warriors - 2025-02-01T03:00:00Z\n"
          ]
        }
      ]
    },
    {
      "cell_type": "code",
      "source": [
        "# RUN THIS FOR SEASON AVG\n",
        "\n",
        "from nba_api.stats.endpoints import leaguedashteamstats\n",
        "from nba_api.stats.static import teams\n",
        "import pandas as pd\n",
        "\n",
        "# Fetch current season team stats\n",
        "team_stats = leaguedashteamstats.LeagueDashTeamStats(season='2024-25', timeout=30).get_data_frames()[0]\n",
        "\n",
        "# Get all NBA teams\n",
        "nba_teams = teams.get_teams()\n",
        "\n",
        "# Map team IDs to team names\n",
        "team_id_to_name = {team['id']: team['full_name'].split()[-1] for team in nba_teams}\n",
        "\n",
        "# Extract relevant stats for each team and calculate per-game averages\n",
        "team_avg_stats = {}\n",
        "for _, row in team_stats.iterrows():\n",
        "    team_id = row['TEAM_ID']\n",
        "    team_name = team_id_to_name.get(team_id, f\"Unknown Team {team_id}\")\n",
        "    games_played = row['GP']  # Number of games played\n",
        "\n",
        "    # Calculate per-game averages\n",
        "    team_avg_stats[team_name] = {\n",
        "        'REB': row['REB'] / games_played,\n",
        "        'AST': row['AST'] / games_played,\n",
        "        'STL': row['STL'] / games_played,\n",
        "        'BLK': row['BLK'] / games_played,\n",
        "        'TOV': row['TOV'] / games_played,\n",
        "        'FG_PCT': row['FG_PCT'],  # FG% is already a percentage, no need to divide\n",
        "        'FG3_PCT': row['FG3_PCT'],  # 3P% is already a percentage, no need to divide\n",
        "        'FT_PCT': row['FT_PCT']  # FT% is already a percentage, no need to divide\n",
        "    }\n",
        "\n",
        "# Display team average stats\n",
        "for team, stats in team_avg_stats.items():\n",
        "    print(f\"{team}: {stats}\")"
      ],
      "metadata": {
        "colab": {
          "base_uri": "https://localhost:8080/"
        },
        "id": "wc-OyV6X0C6W",
        "outputId": "4f2a3e4b-fddc-4224-8b30-c209913fada5"
      },
      "execution_count": 12,
      "outputs": [
        {
          "output_type": "stream",
          "name": "stdout",
          "text": [
            "Hawks: {'REB': 45.1875, 'AST': 28.979166666666668, 'STL': 10.4375, 'BLK': 5.125, 'TOV': 16.25, 'FG_PCT': 0.458, 'FG3_PCT': 0.343, 'FT_PCT': 0.775}\n",
            "Celtics: {'REB': 45.020833333333336, 'AST': 25.583333333333332, 'STL': 7.520833333333333, 'BLK': 5.625, 'TOV': 11.770833333333334, 'FG_PCT': 0.457, 'FG3_PCT': 0.365, 'FT_PCT': 0.794}\n",
            "Nets: {'REB': 40.416666666666664, 'AST': 24.854166666666668, 'STL': 7.458333333333333, 'BLK': 3.8333333333333335, 'TOV': 15.604166666666666, 'FG_PCT': 0.44, 'FG3_PCT': 0.353, 'FT_PCT': 0.797}\n",
            "Hornets: {'REB': 45.93181818181818, 'AST': 23.84090909090909, 'STL': 8.227272727272727, 'BLK': 4.886363636363637, 'TOV': 15.863636363636363, 'FG_PCT': 0.429, 'FG3_PCT': 0.345, 'FT_PCT': 0.773}\n",
            "Bulls: {'REB': 45.854166666666664, 'AST': 29.0, 'STL': 7.520833333333333, 'BLK': 4.75, 'TOV': 15.104166666666666, 'FG_PCT': 0.465, 'FG3_PCT': 0.371, 'FT_PCT': 0.798}\n",
            "Cavaliers: {'REB': 44.270833333333336, 'AST': 29.083333333333332, 'STL': 8.375, 'BLK': 4.4375, 'TOV': 12.833333333333334, 'FG_PCT': 0.498, 'FG3_PCT': 0.392, 'FT_PCT': 0.783}\n",
            "Mavericks: {'REB': 44.875, 'AST': 25.3125, 'STL': 8.041666666666666, 'BLK': 5.854166666666667, 'TOV': 14.5, 'FG_PCT': 0.48, 'FG3_PCT': 0.373, 'FT_PCT': 0.773}\n",
            "Nuggets: {'REB': 45.680851063829785, 'AST': 30.93617021276596, 'STL': 8.404255319148936, 'BLK': 4.829787234042553, 'TOV': 14.425531914893616, 'FG_PCT': 0.503, 'FG3_PCT': 0.38, 'FT_PCT': 0.768}\n",
            "Pistons: {'REB': 44.93617021276596, 'AST': 25.4468085106383, 'STL': 7.361702127659575, 'BLK': 5.085106382978723, 'TOV': 15.851063829787234, 'FG_PCT': 0.467, 'FG3_PCT': 0.362, 'FT_PCT': 0.772}\n",
            "Warriors: {'REB': 46.212765957446805, 'AST': 28.638297872340427, 'STL': 8.617021276595745, 'BLK': 5.148936170212766, 'TOV': 14.23404255319149, 'FG_PCT': 0.446, 'FG3_PCT': 0.365, 'FT_PCT': 0.723}\n",
            "Rockets: {'REB': 48.02127659574468, 'AST': 22.51063829787234, 'STL': 9.106382978723405, 'BLK': 5.0638297872340425, 'TOV': 13.787234042553191, 'FG_PCT': 0.449, 'FG3_PCT': 0.344, 'FT_PCT': 0.756}\n",
            "Pacers: {'REB': 41.65217391304348, 'AST': 28.47826086956522, 'STL': 8.347826086956522, 'BLK': 5.173913043478261, 'TOV': 13.717391304347826, 'FG_PCT': 0.491, 'FG3_PCT': 0.376, 'FT_PCT': 0.771}\n",
            "Clippers: {'REB': 44.53191489361702, 'AST': 24.319148936170212, 'STL': 9.702127659574469, 'BLK': 4.553191489361702, 'TOV': 16.148936170212767, 'FG_PCT': 0.47, 'FG3_PCT': 0.36, 'FT_PCT': 0.797}\n",
            "Lakers: {'REB': 41.54347826086956, 'AST': 26.47826086956522, 'STL': 7.521739130434782, 'BLK': 4.891304347826087, 'TOV': 13.543478260869565, 'FG_PCT': 0.479, 'FG3_PCT': 0.353, 'FT_PCT': 0.794}\n",
            "Grizzlies: {'REB': 47.375, 'AST': 29.4375, 'STL': 9.145833333333334, 'BLK': 6.104166666666667, 'TOV': 16.75, 'FG_PCT': 0.486, 'FG3_PCT': 0.373, 'FT_PCT': 0.773}\n",
            "Heat: {'REB': 43.65217391304348, 'AST': 26.41304347826087, 'STL': 8.26086956521739, 'BLK': 3.782608695652174, 'TOV': 13.652173913043478, 'FG_PCT': 0.457, 'FG3_PCT': 0.367, 'FT_PCT': 0.794}\n",
            "Bucks: {'REB': 44.2, 'AST': 25.244444444444444, 'STL': 7.377777777777778, 'BLK': 5.088888888888889, 'TOV': 13.733333333333333, 'FG_PCT': 0.486, 'FG3_PCT': 0.387, 'FT_PCT': 0.735}\n",
            "Timberwolves: {'REB': 43.666666666666664, 'AST': 25.291666666666668, 'STL': 8.020833333333334, 'BLK': 4.916666666666667, 'TOV': 15.5, 'FG_PCT': 0.465, 'FG3_PCT': 0.387, 'FT_PCT': 0.785}\n",
            "Pelicans: {'REB': 42.895833333333336, 'AST': 25.291666666666668, 'STL': 9.541666666666666, 'BLK': 5.645833333333333, 'TOV': 14.270833333333334, 'FG_PCT': 0.445, 'FG3_PCT': 0.345, 'FT_PCT': 0.765}\n",
            "Knicks: {'REB': 43.291666666666664, 'AST': 27.645833333333332, 'STL': 7.979166666666667, 'BLK': 3.8541666666666665, 'TOV': 13.0, 'FG_PCT': 0.495, 'FG3_PCT': 0.379, 'FT_PCT': 0.805}\n",
            "Thunder: {'REB': 43.5, 'AST': 25.91304347826087, 'STL': 11.23913043478261, 'BLK': 5.586956521739131, 'TOV': 12.065217391304348, 'FG_PCT': 0.472, 'FG3_PCT': 0.355, 'FT_PCT': 0.825}\n",
            "Magic: {'REB': 41.40816326530612, 'AST': 23.244897959183675, 'STL': 9.204081632653061, 'BLK': 6.244897959183674, 'TOV': 14.979591836734693, 'FG_PCT': 0.439, 'FG3_PCT': 0.305, 'FT_PCT': 0.763}\n",
            "76ers: {'REB': 39.04347826086956, 'AST': 22.456521739130434, 'STL': 9.434782608695652, 'BLK': 4.043478260869565, 'TOV': 13.695652173913043, 'FG_PCT': 0.452, 'FG3_PCT': 0.346, 'FT_PCT': 0.787}\n",
            "Suns: {'REB': 42.47826086956522, 'AST': 27.195652173913043, 'STL': 7.608695652173913, 'BLK': 4.934782608695652, 'TOV': 13.91304347826087, 'FG_PCT': 0.475, 'FG3_PCT': 0.377, 'FT_PCT': 0.798}\n",
            "Blazers: {'REB': 43.458333333333336, 'AST': 23.145833333333332, 'STL': 7.916666666666667, 'BLK': 5.625, 'TOV': 16.208333333333332, 'FG_PCT': 0.45, 'FG3_PCT': 0.343, 'FT_PCT': 0.769}\n",
            "Kings: {'REB': 44.702127659574465, 'AST': 26.97872340425532, 'STL': 7.957446808510638, 'BLK': 4.638297872340425, 'TOV': 13.106382978723405, 'FG_PCT': 0.475, 'FG3_PCT': 0.347, 'FT_PCT': 0.81}\n",
            "Spurs: {'REB': 45.34090909090909, 'AST': 28.65909090909091, 'STL': 7.568181818181818, 'BLK': 6.886363636363637, 'TOV': 14.681818181818182, 'FG_PCT': 0.459, 'FG3_PCT': 0.347, 'FT_PCT': 0.788}\n",
            "Raptors: {'REB': 44.170212765957444, 'AST': 29.06382978723404, 'STL': 7.914893617021277, 'BLK': 4.531914893617022, 'TOV': 16.02127659574468, 'FG_PCT': 0.47, 'FG3_PCT': 0.349, 'FT_PCT': 0.743}\n",
            "Jazz: {'REB': 44.84782608695652, 'AST': 25.130434782608695, 'STL': 6.782608695652174, 'BLK': 4.934782608695652, 'TOV': 17.630434782608695, 'FG_PCT': 0.457, 'FG3_PCT': 0.355, 'FT_PCT': 0.787}\n",
            "Wizards: {'REB': 43.8936170212766, 'AST': 24.617021276595743, 'STL': 7.680851063829787, 'BLK': 5.148936170212766, 'TOV': 16.06382978723404, 'FG_PCT': 0.434, 'FG3_PCT': 0.327, 'FT_PCT': 0.773}\n"
          ]
        }
      ]
    },
    {
      "cell_type": "code",
      "source": [
        "# RUN THIS FOR LAST 15 GAMES AVG\n",
        "\n",
        "from nba_api.stats.endpoints import teamgamelog\n",
        "from nba_api.stats.static import teams\n",
        "import pandas as pd\n",
        "\n",
        "# Get all NBA teams\n",
        "nba_teams = teams.get_teams()\n",
        "\n",
        "# Initialize a dictionary to store team stats\n",
        "team_last_15_stats = {}\n",
        "\n",
        "# Fetch game logs and calculate last 15 games' averages\n",
        "for team in nba_teams:\n",
        "    team_id = team['id']\n",
        "    team_name = team['full_name'].split()[-1]  # Extract team name (e.g., \"Celtics\")\n",
        "\n",
        "    try:\n",
        "        # Fetch the team's game log\n",
        "        game_log = teamgamelog.TeamGameLog(team_id=team_id, season='2024-25').get_data_frames()[0]\n",
        "\n",
        "        # Ensure the games are sorted by date (most recent first)\n",
        "        game_log['GAME_DATE'] = pd.to_datetime(game_log['GAME_DATE'])\n",
        "        game_log = game_log.sort_values(by='GAME_DATE', ascending=False)\n",
        "\n",
        "        # Get the last 15 games\n",
        "        last_15_games = game_log.head(15)\n",
        "\n",
        "        # Calculate average stats for the last 15 games\n",
        "        team_last_15_stats[team_name] = {\n",
        "            'REB': last_15_games['REB'].mean(),\n",
        "            'AST': last_15_games['AST'].mean(),\n",
        "            'STL': last_15_games['STL'].mean(),\n",
        "            'BLK': last_15_games['BLK'].mean(),\n",
        "            'TOV': last_15_games['TOV'].mean(),\n",
        "            'FG_PCT': last_15_games['FG_PCT'].mean(),\n",
        "            'FG3_PCT': last_15_games['FG3_PCT'].mean(),\n",
        "            'FT_PCT': last_15_games['FT_PCT'].mean()\n",
        "        }\n",
        "        print(f\"Processed stats for {team_name}\")\n",
        "    except Exception as e:\n",
        "        print(f\"Error fetching stats for {team_name}: {e}\")\n",
        "\n",
        "# Display the last 15 games' averages\n",
        "for team, stats in team_last_15_stats.items():\n",
        "    print(f\"{team}: {stats}\")"
      ],
      "metadata": {
        "colab": {
          "base_uri": "https://localhost:8080/"
        },
        "id": "0ptC7FUbm24k",
        "outputId": "8c09a97c-20e6-4442-96b4-899f64005774"
      },
      "execution_count": 51,
      "outputs": [
        {
          "output_type": "stream",
          "name": "stderr",
          "text": [
            "<ipython-input-51-fa74ade4d76e>:23: UserWarning: Could not infer format, so each element will be parsed individually, falling back to `dateutil`. To ensure parsing is consistent and as-expected, please specify a format.\n",
            "  game_log['GAME_DATE'] = pd.to_datetime(game_log['GAME_DATE'])\n",
            "<ipython-input-51-fa74ade4d76e>:23: UserWarning: Could not infer format, so each element will be parsed individually, falling back to `dateutil`. To ensure parsing is consistent and as-expected, please specify a format.\n",
            "  game_log['GAME_DATE'] = pd.to_datetime(game_log['GAME_DATE'])\n"
          ]
        },
        {
          "output_type": "stream",
          "name": "stdout",
          "text": [
            "Processed stats for Hawks\n",
            "Processed stats for Celtics\n"
          ]
        },
        {
          "output_type": "stream",
          "name": "stderr",
          "text": [
            "<ipython-input-51-fa74ade4d76e>:23: UserWarning: Could not infer format, so each element will be parsed individually, falling back to `dateutil`. To ensure parsing is consistent and as-expected, please specify a format.\n",
            "  game_log['GAME_DATE'] = pd.to_datetime(game_log['GAME_DATE'])\n",
            "<ipython-input-51-fa74ade4d76e>:23: UserWarning: Could not infer format, so each element will be parsed individually, falling back to `dateutil`. To ensure parsing is consistent and as-expected, please specify a format.\n",
            "  game_log['GAME_DATE'] = pd.to_datetime(game_log['GAME_DATE'])\n"
          ]
        },
        {
          "output_type": "stream",
          "name": "stdout",
          "text": [
            "Processed stats for Cavaliers\n",
            "Processed stats for Pelicans\n"
          ]
        },
        {
          "output_type": "stream",
          "name": "stderr",
          "text": [
            "<ipython-input-51-fa74ade4d76e>:23: UserWarning: Could not infer format, so each element will be parsed individually, falling back to `dateutil`. To ensure parsing is consistent and as-expected, please specify a format.\n",
            "  game_log['GAME_DATE'] = pd.to_datetime(game_log['GAME_DATE'])\n",
            "<ipython-input-51-fa74ade4d76e>:23: UserWarning: Could not infer format, so each element will be parsed individually, falling back to `dateutil`. To ensure parsing is consistent and as-expected, please specify a format.\n",
            "  game_log['GAME_DATE'] = pd.to_datetime(game_log['GAME_DATE'])\n"
          ]
        },
        {
          "output_type": "stream",
          "name": "stdout",
          "text": [
            "Processed stats for Bulls\n",
            "Processed stats for Mavericks\n"
          ]
        },
        {
          "output_type": "stream",
          "name": "stderr",
          "text": [
            "<ipython-input-51-fa74ade4d76e>:23: UserWarning: Could not infer format, so each element will be parsed individually, falling back to `dateutil`. To ensure parsing is consistent and as-expected, please specify a format.\n",
            "  game_log['GAME_DATE'] = pd.to_datetime(game_log['GAME_DATE'])\n"
          ]
        },
        {
          "output_type": "stream",
          "name": "stdout",
          "text": [
            "Processed stats for Nuggets\n"
          ]
        },
        {
          "output_type": "stream",
          "name": "stderr",
          "text": [
            "<ipython-input-51-fa74ade4d76e>:23: UserWarning: Could not infer format, so each element will be parsed individually, falling back to `dateutil`. To ensure parsing is consistent and as-expected, please specify a format.\n",
            "  game_log['GAME_DATE'] = pd.to_datetime(game_log['GAME_DATE'])\n"
          ]
        },
        {
          "output_type": "stream",
          "name": "stdout",
          "text": [
            "Processed stats for Warriors\n",
            "Processed stats for Rockets\n"
          ]
        },
        {
          "output_type": "stream",
          "name": "stderr",
          "text": [
            "<ipython-input-51-fa74ade4d76e>:23: UserWarning: Could not infer format, so each element will be parsed individually, falling back to `dateutil`. To ensure parsing is consistent and as-expected, please specify a format.\n",
            "  game_log['GAME_DATE'] = pd.to_datetime(game_log['GAME_DATE'])\n",
            "<ipython-input-51-fa74ade4d76e>:23: UserWarning: Could not infer format, so each element will be parsed individually, falling back to `dateutil`. To ensure parsing is consistent and as-expected, please specify a format.\n",
            "  game_log['GAME_DATE'] = pd.to_datetime(game_log['GAME_DATE'])\n"
          ]
        },
        {
          "output_type": "stream",
          "name": "stdout",
          "text": [
            "Processed stats for Clippers\n",
            "Processed stats for Lakers\n"
          ]
        },
        {
          "output_type": "stream",
          "name": "stderr",
          "text": [
            "<ipython-input-51-fa74ade4d76e>:23: UserWarning: Could not infer format, so each element will be parsed individually, falling back to `dateutil`. To ensure parsing is consistent and as-expected, please specify a format.\n",
            "  game_log['GAME_DATE'] = pd.to_datetime(game_log['GAME_DATE'])\n",
            "<ipython-input-51-fa74ade4d76e>:23: UserWarning: Could not infer format, so each element will be parsed individually, falling back to `dateutil`. To ensure parsing is consistent and as-expected, please specify a format.\n",
            "  game_log['GAME_DATE'] = pd.to_datetime(game_log['GAME_DATE'])\n"
          ]
        },
        {
          "output_type": "stream",
          "name": "stdout",
          "text": [
            "Processed stats for Heat\n",
            "Processed stats for Bucks\n"
          ]
        },
        {
          "output_type": "stream",
          "name": "stderr",
          "text": [
            "<ipython-input-51-fa74ade4d76e>:23: UserWarning: Could not infer format, so each element will be parsed individually, falling back to `dateutil`. To ensure parsing is consistent and as-expected, please specify a format.\n",
            "  game_log['GAME_DATE'] = pd.to_datetime(game_log['GAME_DATE'])\n",
            "<ipython-input-51-fa74ade4d76e>:23: UserWarning: Could not infer format, so each element will be parsed individually, falling back to `dateutil`. To ensure parsing is consistent and as-expected, please specify a format.\n",
            "  game_log['GAME_DATE'] = pd.to_datetime(game_log['GAME_DATE'])\n"
          ]
        },
        {
          "output_type": "stream",
          "name": "stdout",
          "text": [
            "Processed stats for Timberwolves\n",
            "Processed stats for Nets\n"
          ]
        },
        {
          "output_type": "stream",
          "name": "stderr",
          "text": [
            "<ipython-input-51-fa74ade4d76e>:23: UserWarning: Could not infer format, so each element will be parsed individually, falling back to `dateutil`. To ensure parsing is consistent and as-expected, please specify a format.\n",
            "  game_log['GAME_DATE'] = pd.to_datetime(game_log['GAME_DATE'])\n",
            "<ipython-input-51-fa74ade4d76e>:23: UserWarning: Could not infer format, so each element will be parsed individually, falling back to `dateutil`. To ensure parsing is consistent and as-expected, please specify a format.\n",
            "  game_log['GAME_DATE'] = pd.to_datetime(game_log['GAME_DATE'])\n"
          ]
        },
        {
          "output_type": "stream",
          "name": "stdout",
          "text": [
            "Processed stats for Knicks\n",
            "Processed stats for Magic\n"
          ]
        },
        {
          "output_type": "stream",
          "name": "stderr",
          "text": [
            "<ipython-input-51-fa74ade4d76e>:23: UserWarning: Could not infer format, so each element will be parsed individually, falling back to `dateutil`. To ensure parsing is consistent and as-expected, please specify a format.\n",
            "  game_log['GAME_DATE'] = pd.to_datetime(game_log['GAME_DATE'])\n",
            "<ipython-input-51-fa74ade4d76e>:23: UserWarning: Could not infer format, so each element will be parsed individually, falling back to `dateutil`. To ensure parsing is consistent and as-expected, please specify a format.\n",
            "  game_log['GAME_DATE'] = pd.to_datetime(game_log['GAME_DATE'])\n"
          ]
        },
        {
          "output_type": "stream",
          "name": "stdout",
          "text": [
            "Processed stats for Pacers\n",
            "Processed stats for 76ers\n"
          ]
        },
        {
          "output_type": "stream",
          "name": "stderr",
          "text": [
            "<ipython-input-51-fa74ade4d76e>:23: UserWarning: Could not infer format, so each element will be parsed individually, falling back to `dateutil`. To ensure parsing is consistent and as-expected, please specify a format.\n",
            "  game_log['GAME_DATE'] = pd.to_datetime(game_log['GAME_DATE'])\n",
            "<ipython-input-51-fa74ade4d76e>:23: UserWarning: Could not infer format, so each element will be parsed individually, falling back to `dateutil`. To ensure parsing is consistent and as-expected, please specify a format.\n",
            "  game_log['GAME_DATE'] = pd.to_datetime(game_log['GAME_DATE'])\n"
          ]
        },
        {
          "output_type": "stream",
          "name": "stdout",
          "text": [
            "Processed stats for Suns\n",
            "Error fetching stats for Blazers: HTTPSConnectionPool(host='stats.nba.com', port=443): Read timed out. (read timeout=30)\n"
          ]
        },
        {
          "output_type": "stream",
          "name": "stderr",
          "text": [
            "<ipython-input-51-fa74ade4d76e>:23: UserWarning: Could not infer format, so each element will be parsed individually, falling back to `dateutil`. To ensure parsing is consistent and as-expected, please specify a format.\n",
            "  game_log['GAME_DATE'] = pd.to_datetime(game_log['GAME_DATE'])\n",
            "<ipython-input-51-fa74ade4d76e>:23: UserWarning: Could not infer format, so each element will be parsed individually, falling back to `dateutil`. To ensure parsing is consistent and as-expected, please specify a format.\n",
            "  game_log['GAME_DATE'] = pd.to_datetime(game_log['GAME_DATE'])\n"
          ]
        },
        {
          "output_type": "stream",
          "name": "stdout",
          "text": [
            "Processed stats for Kings\n",
            "Processed stats for Spurs\n"
          ]
        },
        {
          "output_type": "stream",
          "name": "stderr",
          "text": [
            "<ipython-input-51-fa74ade4d76e>:23: UserWarning: Could not infer format, so each element will be parsed individually, falling back to `dateutil`. To ensure parsing is consistent and as-expected, please specify a format.\n",
            "  game_log['GAME_DATE'] = pd.to_datetime(game_log['GAME_DATE'])\n",
            "<ipython-input-51-fa74ade4d76e>:23: UserWarning: Could not infer format, so each element will be parsed individually, falling back to `dateutil`. To ensure parsing is consistent and as-expected, please specify a format.\n",
            "  game_log['GAME_DATE'] = pd.to_datetime(game_log['GAME_DATE'])\n"
          ]
        },
        {
          "output_type": "stream",
          "name": "stdout",
          "text": [
            "Processed stats for Thunder\n",
            "Processed stats for Raptors\n"
          ]
        },
        {
          "output_type": "stream",
          "name": "stderr",
          "text": [
            "<ipython-input-51-fa74ade4d76e>:23: UserWarning: Could not infer format, so each element will be parsed individually, falling back to `dateutil`. To ensure parsing is consistent and as-expected, please specify a format.\n",
            "  game_log['GAME_DATE'] = pd.to_datetime(game_log['GAME_DATE'])\n",
            "<ipython-input-51-fa74ade4d76e>:23: UserWarning: Could not infer format, so each element will be parsed individually, falling back to `dateutil`. To ensure parsing is consistent and as-expected, please specify a format.\n",
            "  game_log['GAME_DATE'] = pd.to_datetime(game_log['GAME_DATE'])\n"
          ]
        },
        {
          "output_type": "stream",
          "name": "stdout",
          "text": [
            "Processed stats for Jazz\n",
            "Processed stats for Grizzlies\n"
          ]
        },
        {
          "output_type": "stream",
          "name": "stderr",
          "text": [
            "<ipython-input-51-fa74ade4d76e>:23: UserWarning: Could not infer format, so each element will be parsed individually, falling back to `dateutil`. To ensure parsing is consistent and as-expected, please specify a format.\n",
            "  game_log['GAME_DATE'] = pd.to_datetime(game_log['GAME_DATE'])\n",
            "<ipython-input-51-fa74ade4d76e>:23: UserWarning: Could not infer format, so each element will be parsed individually, falling back to `dateutil`. To ensure parsing is consistent and as-expected, please specify a format.\n",
            "  game_log['GAME_DATE'] = pd.to_datetime(game_log['GAME_DATE'])\n"
          ]
        },
        {
          "output_type": "stream",
          "name": "stdout",
          "text": [
            "Processed stats for Wizards\n",
            "Processed stats for Pistons\n",
            "Processed stats for Hornets\n",
            "Hawks: {'REB': 43.733333333333334, 'AST': 27.133333333333333, 'STL': 10.533333333333333, 'BLK': 4.6, 'TOV': 14.8, 'FG_PCT': 0.43753333333333344, 'FG3_PCT': 0.31966666666666665, 'FT_PCT': 0.7550666666666668}\n",
            "Celtics: {'REB': 43.93333333333333, 'AST': 25.333333333333332, 'STL': 7.2, 'BLK': 5.733333333333333, 'TOV': 11.0, 'FG_PCT': 0.4518666666666667, 'FG3_PCT': 0.3591333333333333, 'FT_PCT': 0.7917333333333333}\n",
            "Cavaliers: {'REB': 45.266666666666666, 'AST': 29.533333333333335, 'STL': 6.866666666666666, 'BLK': 3.933333333333333, 'TOV': 11.666666666666666, 'FG_PCT': 0.48646666666666655, 'FG3_PCT': 0.3584666666666667, 'FT_PCT': 0.7962666666666667}\n",
            "Pelicans: {'REB': 42.8, 'AST': 27.0, 'STL': 9.2, 'BLK': 6.266666666666667, 'TOV': 11.4, 'FG_PCT': 0.4576666666666666, 'FG3_PCT': 0.3589333333333334, 'FT_PCT': 0.7736666666666667}\n",
            "Bulls: {'REB': 47.2, 'AST': 28.0, 'STL': 7.733333333333333, 'BLK': 5.0, 'TOV': 14.4, 'FG_PCT': 0.4603999999999999, 'FG3_PCT': 0.3630000000000001, 'FT_PCT': 0.8175999999999999}\n",
            "Mavericks: {'REB': 45.06666666666667, 'AST': 25.933333333333334, 'STL': 7.466666666666667, 'BLK': 5.866666666666666, 'TOV': 14.333333333333334, 'FG_PCT': 0.4754, 'FG3_PCT': 0.35933333333333334, 'FT_PCT': 0.7496000000000002}\n",
            "Nuggets: {'REB': 47.266666666666666, 'AST': 29.333333333333332, 'STL': 7.533333333333333, 'BLK': 5.4, 'TOV': 13.333333333333334, 'FG_PCT': 0.5061333333333333, 'FG3_PCT': 0.3762, 'FT_PCT': 0.7757333333333334}\n",
            "Warriors: {'REB': 43.8, 'AST': 29.2, 'STL': 8.133333333333333, 'BLK': 4.6, 'TOV': 13.333333333333334, 'FG_PCT': 0.4562666666666667, 'FG3_PCT': 0.37986666666666663, 'FT_PCT': 0.7428666666666667}\n",
            "Rockets: {'REB': 44.4, 'AST': 22.733333333333334, 'STL': 10.666666666666666, 'BLK': 3.8666666666666667, 'TOV': 13.066666666666666, 'FG_PCT': 0.4654, 'FG3_PCT': 0.38300000000000006, 'FT_PCT': 0.7487333333333334}\n",
            "Clippers: {'REB': 45.733333333333334, 'AST': 24.2, 'STL': 9.466666666666667, 'BLK': 4.733333333333333, 'TOV': 14.0, 'FG_PCT': 0.4748666666666666, 'FG3_PCT': 0.34380000000000005, 'FT_PCT': 0.8146666666666668}\n",
            "Lakers: {'REB': 42.333333333333336, 'AST': 26.733333333333334, 'STL': 6.933333333333334, 'BLK': 4.866666666666666, 'TOV': 12.333333333333334, 'FG_PCT': 0.48853333333333343, 'FG3_PCT': 0.35113333333333335, 'FT_PCT': 0.8189333333333334}\n",
            "Heat: {'REB': 44.266666666666666, 'AST': 28.0, 'STL': 7.0, 'BLK': 4.466666666666667, 'TOV': 13.066666666666666, 'FG_PCT': 0.46459999999999996, 'FG3_PCT': 0.3593333333333334, 'FT_PCT': 0.8307333333333333}\n",
            "Bucks: {'REB': 46.46666666666667, 'AST': 26.866666666666667, 'STL': 6.8, 'BLK': 4.6, 'TOV': 12.133333333333333, 'FG_PCT': 0.5031333333333333, 'FG3_PCT': 0.38866666666666666, 'FT_PCT': 0.7270666666666667}\n",
            "Timberwolves: {'REB': 44.93333333333333, 'AST': 26.0, 'STL': 7.6, 'BLK': 5.466666666666667, 'TOV': 13.8, 'FG_PCT': 0.47766666666666663, 'FG3_PCT': 0.4109333333333334, 'FT_PCT': 0.7693999999999998}\n",
            "Nets: {'REB': 43.6, 'AST': 23.8, 'STL': 7.933333333333334, 'BLK': 4.2, 'TOV': 14.6, 'FG_PCT': 0.4127333333333334, 'FG3_PCT': 0.30993333333333334, 'FT_PCT': 0.7601999999999999}\n",
            "Knicks: {'REB': 43.6, 'AST': 27.0, 'STL': 8.666666666666666, 'BLK': 3.4, 'TOV': 11.533333333333333, 'FG_PCT': 0.4898666666666667, 'FG3_PCT': 0.34693333333333337, 'FT_PCT': 0.8004666666666667}\n",
            "Magic: {'REB': 40.6, 'AST': 22.133333333333333, 'STL': 9.0, 'BLK': 5.2, 'TOV': 12.333333333333334, 'FG_PCT': 0.4186, 'FG3_PCT': 0.2928666666666667, 'FT_PCT': 0.7068}\n",
            "Pacers: {'REB': 43.2, 'AST': 29.666666666666668, 'STL': 8.733333333333333, 'BLK': 4.8, 'TOV': 10.866666666666667, 'FG_PCT': 0.4956666666666667, 'FG3_PCT': 0.37513333333333326, 'FT_PCT': 0.7369333333333334}\n",
            "76ers: {'REB': 37.46666666666667, 'AST': 23.733333333333334, 'STL': 8.733333333333333, 'BLK': 3.8, 'TOV': 11.533333333333333, 'FG_PCT': 0.4624, 'FG3_PCT': 0.3626, 'FT_PCT': 0.7998}\n",
            "Suns: {'REB': 41.86666666666667, 'AST': 27.933333333333334, 'STL': 7.066666666666666, 'BLK': 4.866666666666666, 'TOV': 13.2, 'FG_PCT': 0.4894, 'FG3_PCT': 0.37226666666666663, 'FT_PCT': 0.8021333333333333}\n",
            "Kings: {'REB': 47.4, 'AST': 29.266666666666666, 'STL': 7.866666666666666, 'BLK': 4.466666666666667, 'TOV': 12.133333333333333, 'FG_PCT': 0.4740666666666667, 'FG3_PCT': 0.3582666666666666, 'FT_PCT': 0.8308000000000001}\n",
            "Spurs: {'REB': 46.4, 'AST': 29.066666666666666, 'STL': 7.4, 'BLK': 6.733333333333333, 'TOV': 13.266666666666667, 'FG_PCT': 0.4627333333333334, 'FG3_PCT': 0.35446666666666665, 'FT_PCT': 0.7748666666666665}\n",
            "Thunder: {'REB': 42.0, 'AST': 26.2, 'STL': 10.133333333333333, 'BLK': 4.4, 'TOV': 11.733333333333333, 'FG_PCT': 0.4861333333333333, 'FG3_PCT': 0.38086666666666674, 'FT_PCT': 0.8381333333333334}\n",
            "Raptors: {'REB': 42.333333333333336, 'AST': 29.533333333333335, 'STL': 8.266666666666667, 'BLK': 4.4, 'TOV': 14.133333333333333, 'FG_PCT': 0.4866666666666666, 'FG3_PCT': 0.3699333333333333, 'FT_PCT': 0.7098}\n",
            "Jazz: {'REB': 45.2, 'AST': 25.8, 'STL': 6.733333333333333, 'BLK': 4.8, 'TOV': 15.133333333333333, 'FG_PCT': 0.4521333333333333, 'FG3_PCT': 0.3333333333333333, 'FT_PCT': 0.7814}\n",
            "Grizzlies: {'REB': 44.8, 'AST': 26.866666666666667, 'STL': 9.2, 'BLK': 5.2, 'TOV': 15.133333333333333, 'FG_PCT': 0.49279999999999996, 'FG3_PCT': 0.37633333333333335, 'FT_PCT': 0.7764666666666666}\n",
            "Wizards: {'REB': 43.4, 'AST': 23.4, 'STL': 7.266666666666667, 'BLK': 4.133333333333334, 'TOV': 14.466666666666667, 'FG_PCT': 0.40673333333333334, 'FG3_PCT': 0.3171333333333333, 'FT_PCT': 0.7479999999999999}\n",
            "Pistons: {'REB': 45.8, 'AST': 24.6, 'STL': 8.266666666666667, 'BLK': 5.066666666666666, 'TOV': 14.866666666666667, 'FG_PCT': 0.47026666666666667, 'FG3_PCT': 0.36579999999999996, 'FT_PCT': 0.7721333333333333}\n",
            "Hornets: {'REB': 47.0, 'AST': 24.533333333333335, 'STL': 8.666666666666666, 'BLK': 4.8, 'TOV': 15.266666666666667, 'FG_PCT': 0.43033333333333335, 'FG3_PCT': 0.34246666666666664, 'FT_PCT': 0.7743999999999999}\n"
          ]
        },
        {
          "output_type": "stream",
          "name": "stderr",
          "text": [
            "<ipython-input-51-fa74ade4d76e>:23: UserWarning: Could not infer format, so each element will be parsed individually, falling back to `dateutil`. To ensure parsing is consistent and as-expected, please specify a format.\n",
            "  game_log['GAME_DATE'] = pd.to_datetime(game_log['GAME_DATE'])\n"
          ]
        }
      ]
    },
    {
      "cell_type": "code",
      "source": [
        "import pickle\n",
        "\n",
        "# Load team_avg_stats from the file\n",
        "with open('team_avg_stats.pkl', 'rb') as f:\n",
        "    team_avg_stats = pickle.load(f)\n",
        "\n",
        "# Display the loaded data\n",
        "print(\"Loaded team_avg_stats:\")\n",
        "for team, stats in team_avg_stats.items():\n",
        "    print(f\"{team}: {stats}\")"
      ],
      "metadata": {
        "colab": {
          "base_uri": "https://localhost:8080/",
          "height": 216
        },
        "id": "AMX8glEPZH36",
        "outputId": "f24c0240-c8e7-421f-8eb0-c612c4f41b85"
      },
      "execution_count": 13,
      "outputs": [
        {
          "output_type": "error",
          "ename": "FileNotFoundError",
          "evalue": "[Errno 2] No such file or directory: 'team_avg_stats.pkl'",
          "traceback": [
            "\u001b[0;31m---------------------------------------------------------------------------\u001b[0m",
            "\u001b[0;31mFileNotFoundError\u001b[0m                         Traceback (most recent call last)",
            "\u001b[0;32m<ipython-input-13-32de8fb26614>\u001b[0m in \u001b[0;36m<cell line: 0>\u001b[0;34m()\u001b[0m\n\u001b[1;32m      2\u001b[0m \u001b[0;34m\u001b[0m\u001b[0m\n\u001b[1;32m      3\u001b[0m \u001b[0;31m# Load team_avg_stats from the file\u001b[0m\u001b[0;34m\u001b[0m\u001b[0;34m\u001b[0m\u001b[0m\n\u001b[0;32m----> 4\u001b[0;31m \u001b[0;32mwith\u001b[0m \u001b[0mopen\u001b[0m\u001b[0;34m(\u001b[0m\u001b[0;34m'team_avg_stats.pkl'\u001b[0m\u001b[0;34m,\u001b[0m \u001b[0;34m'rb'\u001b[0m\u001b[0;34m)\u001b[0m \u001b[0;32mas\u001b[0m \u001b[0mf\u001b[0m\u001b[0;34m:\u001b[0m\u001b[0;34m\u001b[0m\u001b[0;34m\u001b[0m\u001b[0m\n\u001b[0m\u001b[1;32m      5\u001b[0m     \u001b[0mteam_avg_stats\u001b[0m \u001b[0;34m=\u001b[0m \u001b[0mpickle\u001b[0m\u001b[0;34m.\u001b[0m\u001b[0mload\u001b[0m\u001b[0;34m(\u001b[0m\u001b[0mf\u001b[0m\u001b[0;34m)\u001b[0m\u001b[0;34m\u001b[0m\u001b[0;34m\u001b[0m\u001b[0m\n\u001b[1;32m      6\u001b[0m \u001b[0;34m\u001b[0m\u001b[0m\n",
            "\u001b[0;31mFileNotFoundError\u001b[0m: [Errno 2] No such file or directory: 'team_avg_stats.pkl'"
          ]
        }
      ]
    },
    {
      "cell_type": "code",
      "source": [
        "import pandas as pd\n",
        "\n",
        "# Display upcoming games\n",
        "counter = 0\n",
        "for game in upcoming_games:\n",
        "    home_team = game['homeTeam']['teamName']\n",
        "    away_team = game['awayTeam']['teamName']\n",
        "    print(f\"{counter}. {away_team} @ {home_team}\")\n",
        "    counter += 1\n",
        "\n",
        "# Example: Prepare data for an upcoming game\n",
        "upcoming_game = upcoming_games[5]  # First upcoming game\n",
        "home_team = upcoming_game['homeTeam']['teamName']\n",
        "away_team = upcoming_game['awayTeam']['teamName']\n",
        "\n",
        "# Get average stats for both teams\n",
        "home_stats = team_last_15_stats[home_team]\n",
        "away_stats = team_last_15_stats[away_team]\n",
        "\n",
        "# Create a row of features\n",
        "game_features = {\n",
        "    'TEAM1_REB': home_stats['REB'], 'TEAM2_REB': away_stats['REB'],\n",
        "    'TEAM1_AST': home_stats['AST'], 'TEAM2_AST': away_stats['AST'],\n",
        "    'TEAM1_STL': home_stats['STL'], 'TEAM2_STL': away_stats['STL'],\n",
        "    'TEAM1_BLK': home_stats['BLK'], 'TEAM2_BLK': away_stats['BLK'],\n",
        "    'TEAM1_TOV': home_stats['TOV'], 'TEAM2_TOV': away_stats['TOV'],\n",
        "    'TEAM1_FG_PCT': home_stats['FG_PCT'], 'TEAM2_FG_PCT': away_stats['FG_PCT'],\n",
        "    'TEAM1_3P_PCT': home_stats['FG3_PCT'], 'TEAM2_3P_PCT': away_stats['FG3_PCT'],\n",
        "    'TEAM1_FT_PCT': home_stats['FT_PCT'], 'TEAM2_FT_PCT': away_stats['FT_PCT']\n",
        "}\n",
        "\n",
        "# Convert to DataFrame\n",
        "game_df = pd.DataFrame([game_features])\n",
        "\n",
        "# Load the trained model (if not already loaded)\n",
        "import joblib\n",
        "model = joblib.load('nba_game_predictor.pkl')\n",
        "\n",
        "# Make prediction\n",
        "prediction = model.predict_proba(game_df)\n",
        "print(f\"Probability of {home_team} winning: {prediction[0][1]:.2f}\")\n",
        "print(f\"Probability of {away_team} winning: {prediction[0][0]:.2f}\")"
      ],
      "metadata": {
        "colab": {
          "base_uri": "https://localhost:8080/"
        },
        "id": "q3nrT7h1sEpS",
        "outputId": "4e0b7a79-5e1b-4da4-abb4-fd6f163f9ab1"
      },
      "execution_count": 75,
      "outputs": [
        {
          "output_type": "stream",
          "name": "stdout",
          "text": [
            "0. Clippers @ Hornets\n",
            "1. Mavericks @ Pistons\n",
            "2. Nuggets @ 76ers\n",
            "3. Bulls @ Raptors\n",
            "4. Celtics @ Pelicans\n",
            "5. Bucks @ Spurs\n",
            "6. Suns @ Warriors\n",
            "Probability of Spurs winning: 0.56\n",
            "Probability of Bucks winning: 0.44\n"
          ]
        }
      ]
    },
    {
      "cell_type": "code",
      "source": [
        "# TOOL: AMERICAN ODDS TO %\n",
        "def odds_to_probability(odds):\n",
        "    if odds > 0:\n",
        "        probability = 100 / (odds + 100)\n",
        "    else:\n",
        "        probability = -odds / (-odds + 100)\n",
        "    return probability\n",
        "\n",
        "# Example usage\n",
        "positive_odds = 170\n",
        "negative_odds = -205\n",
        "\n",
        "positive_probability = odds_to_probability(positive_odds)\n",
        "negative_probability = odds_to_probability(negative_odds)\n",
        "\n",
        "print(f\"Probability for + odds: {positive_probability:.4f} or {positive_probability*100:.2f}%\")\n",
        "print(f\"Probability for - odds: {negative_probability:.4f} or {negative_probability*100:.2f}%\")"
      ],
      "metadata": {
        "colab": {
          "base_uri": "https://localhost:8080/"
        },
        "id": "NEfzVD7h-HD_",
        "outputId": "1885c31d-0980-4356-c835-614f999657e5"
      },
      "execution_count": 16,
      "outputs": [
        {
          "output_type": "stream",
          "name": "stdout",
          "text": [
            "Probability for + odds: 0.3704 or 37.04%\n",
            "Probability for - odds: 0.6721 or 67.21%\n"
          ]
        }
      ]
    },
    {
      "cell_type": "code",
      "source": [
        "# TOOL: % TO AMERICAN ODDS\n",
        "def probability_to_american_odds(probability):\n",
        "    \"\"\"Convert a probability to American odds format.\"\"\"\n",
        "    if probability < 0 or probability > 1:\n",
        "        raise ValueError(\"Probability must be between 0 and 1.\")\n",
        "\n",
        "    if probability < 0.5:\n",
        "        odds = (100 / probability) - 100\n",
        "        return f\"+{int(round(odds))}\"\n",
        "    else:\n",
        "        odds = (probability / (1 - probability)) * 100\n",
        "        return f\"-{int(round(odds))}\"\n",
        "\n",
        "# Example usage\n",
        "probability = 0.37\n",
        "american_odds = probability_to_american_odds(probability)\n",
        "print(f\"American Odds: {american_odds}\")\n",
        "probability = 0.63\n",
        "american_odds = probability_to_american_odds(probability)\n",
        "print(f\"American Odds: {american_odds}\")"
      ],
      "metadata": {
        "colab": {
          "base_uri": "https://localhost:8080/"
        },
        "id": "oYkycwCfX50Z",
        "outputId": "729cd2bb-39c3-4906-8f04-cad664608709"
      },
      "execution_count": null,
      "outputs": [
        {
          "output_type": "stream",
          "name": "stdout",
          "text": [
            "American Odds: +170\n",
            "American Odds: -170\n"
          ]
        }
      ]
    },
    {
      "cell_type": "code",
      "source": [
        "import pickle\n",
        "\n",
        "# Save team_avg_stats to a file using pickle\n",
        "with open('team_avg_stats.pkl', 'wb') as f:\n",
        "    pickle.dump(team_avg_stats, f)\n",
        "\n",
        "print(\"team_avg_stats saved to 'team_avg_stats.pkl'\")"
      ],
      "metadata": {
        "id": "mqo4RgMC-Vet",
        "colab": {
          "base_uri": "https://localhost:8080/"
        },
        "outputId": "5ced52c7-f0cc-4dfc-c083-ed231331e80c"
      },
      "execution_count": null,
      "outputs": [
        {
          "output_type": "stream",
          "name": "stdout",
          "text": [
            "team_avg_stats saved to 'team_avg_stats.pkl'\n"
          ]
        }
      ]
    }
  ],
  "metadata": {
    "colab": {
      "provenance": []
    },
    "kernelspec": {
      "display_name": "Python 3",
      "name": "python3"
    }
  },
  "nbformat": 4,
  "nbformat_minor": 0
}
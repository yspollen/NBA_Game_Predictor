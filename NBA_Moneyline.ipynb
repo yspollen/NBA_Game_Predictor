{
  "cells": [
    {
      "cell_type": "code",
      "source": [
        "!pip install nba_api"
      ],
      "metadata": {
        "id": "hyu-hFHTlmdh",
        "outputId": "58992e77-7dac-43ed-f626-94e866ac44e1",
        "colab": {
          "base_uri": "https://localhost:8080/"
        }
      },
      "execution_count": 2,
      "outputs": [
        {
          "output_type": "stream",
          "name": "stdout",
          "text": [
            "Collecting nba_api\n",
            "  Downloading nba_api-1.7.0-py3-none-any.whl.metadata (5.5 kB)\n",
            "Requirement already satisfied: numpy<2.0.0,>=1.22.2 in /usr/local/lib/python3.11/dist-packages (from nba_api) (1.26.4)\n",
            "Requirement already satisfied: requests<3.0.0,>=2.32.3 in /usr/local/lib/python3.11/dist-packages (from nba_api) (2.32.3)\n",
            "Requirement already satisfied: charset-normalizer<4,>=2 in /usr/local/lib/python3.11/dist-packages (from requests<3.0.0,>=2.32.3->nba_api) (3.4.1)\n",
            "Requirement already satisfied: idna<4,>=2.5 in /usr/local/lib/python3.11/dist-packages (from requests<3.0.0,>=2.32.3->nba_api) (3.10)\n",
            "Requirement already satisfied: urllib3<3,>=1.21.1 in /usr/local/lib/python3.11/dist-packages (from requests<3.0.0,>=2.32.3->nba_api) (2.3.0)\n",
            "Requirement already satisfied: certifi>=2017.4.17 in /usr/local/lib/python3.11/dist-packages (from requests<3.0.0,>=2.32.3->nba_api) (2024.12.14)\n",
            "Downloading nba_api-1.7.0-py3-none-any.whl (280 kB)\n",
            "\u001b[2K   \u001b[90m━━━━━━━━━━━━━━━━━━━━━━━━━━━━━━━━━━━━━━━━\u001b[0m \u001b[32m280.2/280.2 kB\u001b[0m \u001b[31m4.2 MB/s\u001b[0m eta \u001b[36m0:00:00\u001b[0m\n",
            "\u001b[?25hInstalling collected packages: nba_api\n",
            "Successfully installed nba_api-1.7.0\n"
          ]
        }
      ]
    },
    {
      "cell_type": "code",
      "source": [
        "from nba_api.stats.endpoints import leaguegamefinder\n",
        "import pandas as pd\n",
        "\n",
        "# Use LeagueGameFinder to fetch historical games\n",
        "game_finder = leaguegamefinder.LeagueGameFinder()\n",
        "games = game_finder.get_data_frames()[0]  # Get the first DataFrame\n",
        "\n",
        "# List of NBA team abbreviations (exclude G League teams)\n",
        "nba_team_abbreviations = [\n",
        "    'ATL', 'BOS', 'BKN', 'CHA', 'CHI', 'CLE', 'DAL', 'DEN', 'DET', 'GSW',\n",
        "    'HOU', 'IND', 'LAC', 'LAL', 'MEM', 'MIA', 'MIL', 'MIN', 'NOP', 'NYK',\n",
        "    'OKC', 'ORL', 'PHI', 'PHX', 'POR', 'SAC', 'SAS', 'TOR', 'UTA', 'WAS'\n",
        "]\n",
        "\n",
        "# Filter out G League games by keeping only NBA team abbreviations\n",
        "nba_games = games[games['TEAM_ABBREVIATION'].isin(nba_team_abbreviations)]\n",
        "\n",
        "# Sort games by date (most recent first)\n",
        "nba_games['GAME_DATE'] = pd.to_datetime(nba_games['GAME_DATE'])\n",
        "nba_games = nba_games.sort_values(by='GAME_DATE', ascending=False)\n",
        "\n",
        "# Filter to the last 100 NBA games\n",
        "last_100_nba_games = nba_games.head(100)\n",
        "\n",
        "# Save to a CSV file (optional)\n",
        "last_100_nba_games.to_csv('last_100_nba_games.csv', index=False)\n",
        "\n",
        "# Display the DataFrame\n",
        "print(last_100_nba_games.head())"
      ],
      "metadata": {
        "id": "AkdIenGfmJCb",
        "outputId": "0574addf-711a-43bf-c7d9-f6afef4ab624",
        "colab": {
          "base_uri": "https://localhost:8080/"
        }
      },
      "execution_count": null,
      "outputs": [
        {
          "output_type": "stream",
          "name": "stdout",
          "text": [
            "   SEASON_ID     TEAM_ID TEAM_ABBREVIATION               TEAM_NAME  \\\n",
            "0      22024  1610612743               DEN          Denver Nuggets   \n",
            "3      22024  1610612754               IND          Indiana Pacers   \n",
            "1      22024  1610612750               MIN  Minnesota Timberwolves   \n",
            "2      22024  1610612759               SAS       San Antonio Spurs   \n",
            "13     22024  1610612739               CLE     Cleveland Cavaliers   \n",
            "\n",
            "       GAME_ID  GAME_DATE      MATCHUP WL  MIN  PTS  ...  FT_PCT  OREB  DREB  \\\n",
            "0   0022400634 2025-01-25    DEN @ MIN  L  239  104  ...   0.538    14    22   \n",
            "3   0022400633 2025-01-25    IND @ SAS  W  240  136  ...   0.929    16    34   \n",
            "1   0022400634 2025-01-25  MIN vs. DEN  W  238  133  ...   0.867    18    27   \n",
            "2   0022400633 2025-01-25    IND @ SAS  L  241   98  ...   0.680    15    29   \n",
            "13  0022400631 2025-01-24    CLE @ PHI  L  240  129  ...   0.737    10    27   \n",
            "\n",
            "    REB  AST  STL  BLK  TOV  PF  PLUS_MINUS  \n",
            "0    36   32    7    3   19  13       -29.0  \n",
            "3    50   32   14    9   10  20        38.0  \n",
            "1    45   38   14    4   16  14        29.0  \n",
            "2    44   22    9    5   22  17       -38.0  \n",
            "13   37   30   10    5   16  20        -3.0  \n",
            "\n",
            "[5 rows x 28 columns]\n"
          ]
        },
        {
          "output_type": "stream",
          "name": "stderr",
          "text": [
            "<ipython-input-3-1c467760d8d7>:19: SettingWithCopyWarning: \n",
            "A value is trying to be set on a copy of a slice from a DataFrame.\n",
            "Try using .loc[row_indexer,col_indexer] = value instead\n",
            "\n",
            "See the caveats in the documentation: https://pandas.pydata.org/pandas-docs/stable/user_guide/indexing.html#returning-a-view-versus-a-copy\n",
            "  nba_games['GAME_DATE'] = pd.to_datetime(nba_games['GAME_DATE'])\n"
          ]
        }
      ]
    },
    {
      "cell_type": "code",
      "source": [
        "import pandas as pd\n",
        "\n",
        "# Load the last 100 NBA games (if not already loaded)\n",
        "last_100_nba_games = pd.read_csv('last_100_nba_games.csv')\n",
        "\n",
        "# Group by game ID\n",
        "grouped_games = last_100_nba_games.groupby('GAME_ID')\n",
        "\n",
        "# Initialize a list to store training data\n",
        "training_data = []\n",
        "\n",
        "# Loop through each game\n",
        "for game_id, game_data in grouped_games:\n",
        "    # Ensure there are exactly 2 rows (one for each team)\n",
        "    if len(game_data) != 2:\n",
        "        continue\n",
        "\n",
        "    # Extract stats for both teams\n",
        "    team1 = game_data.iloc[0]\n",
        "    team2 = game_data.iloc[1]\n",
        "\n",
        "    # Create composite stats for each team\n",
        "    team1_stats = {\n",
        "        'TEAM': team1['TEAM_ABBREVIATION'],\n",
        "        'PTS': team1['PTS'],\n",
        "        'REB': team1['REB'],\n",
        "        'AST': team1['AST'],\n",
        "        'STL': team1['STL'],\n",
        "        'BLK': team1['BLK'],\n",
        "        'TOV': team1['TOV'],\n",
        "        'FG_PCT': team1['FG_PCT'],\n",
        "        '3P_PCT': team1['FG3_PCT'],\n",
        "        'FT_PCT': team1['FT_PCT']\n",
        "    }\n",
        "\n",
        "    team2_stats = {\n",
        "        'TEAM': team2['TEAM_ABBREVIATION'],\n",
        "        'PTS': team2['PTS'],\n",
        "        'REB': team2['REB'],\n",
        "        'AST': team2['AST'],\n",
        "        'STL': team2['STL'],\n",
        "        'BLK': team2['BLK'],\n",
        "        'TOV': team2['TOV'],\n",
        "        'FG_PCT': team2['FG_PCT'],\n",
        "        '3P_PCT': team2['FG3_PCT'],\n",
        "        'FT_PCT': team2['FT_PCT']\n",
        "    }\n",
        "\n",
        "    # Determine the game outcome (1 if team1 wins, 0 if team2 wins)\n",
        "    if team1['WL'] == 'W':\n",
        "        outcome = 1\n",
        "    else:\n",
        "        outcome = 0\n",
        "\n",
        "    # Combine stats into a single row for training\n",
        "    training_row = {\n",
        "        'GAME_ID': game_id,\n",
        "        'TEAM1': team1_stats['TEAM'],\n",
        "        'TEAM2': team2_stats['TEAM'],\n",
        "        'TEAM1_PTS': team1_stats['PTS'],\n",
        "        'TEAM2_PTS': team2_stats['PTS'],\n",
        "        'TEAM1_REB': team1_stats['REB'],\n",
        "        'TEAM2_REB': team2_stats['REB'],\n",
        "        'TEAM1_AST': team1_stats['AST'],\n",
        "        'TEAM2_AST': team2_stats['AST'],\n",
        "        'TEAM1_STL': team1_stats['STL'],\n",
        "        'TEAM2_STL': team2_stats['STL'],\n",
        "        'TEAM1_BLK': team1_stats['BLK'],\n",
        "        'TEAM2_BLK': team2_stats['BLK'],\n",
        "        'TEAM1_TOV': team1_stats['TOV'],\n",
        "        'TEAM2_TOV': team2_stats['TOV'],\n",
        "        'TEAM1_FG_PCT': team1_stats['FG_PCT'],\n",
        "        'TEAM2_FG_PCT': team2_stats['FG_PCT'],\n",
        "        'TEAM1_3P_PCT': team1_stats['3P_PCT'],\n",
        "        'TEAM2_3P_PCT': team2_stats['3P_PCT'],\n",
        "        'TEAM1_FT_PCT': team1_stats['FT_PCT'],\n",
        "        'TEAM2_FT_PCT': team2_stats['FT_PCT'],\n",
        "        'OUTCOME': outcome\n",
        "    }\n",
        "\n",
        "    # Append to the training data\n",
        "    training_data.append(training_row)\n",
        "\n",
        "# Convert the training data to a DataFrame\n",
        "training_df = pd.DataFrame(training_data)\n",
        "\n",
        "# Save to a CSV file (optional)\n",
        "training_df.to_csv('nba_training_data.csv', index=False)\n",
        "\n",
        "# Display the DataFrame\n",
        "print(training_df.head())"
      ],
      "metadata": {
        "id": "NzE4NRV3mkwS",
        "outputId": "ba1881ed-4a60-4e91-9dc8-b250b2ae58ac",
        "colab": {
          "base_uri": "https://localhost:8080/"
        }
      },
      "execution_count": null,
      "outputs": [
        {
          "output_type": "stream",
          "name": "stdout",
          "text": [
            "    GAME_ID TEAM1 TEAM2  TEAM1_PTS  TEAM2_PTS  TEAM1_REB  TEAM2_REB  \\\n",
            "0  22400586   PHX   DET        125        121         50         43   \n",
            "1  22400587   BOS   ATL        115        119         53         55   \n",
            "2  22400588   PHI   IND        102        115         32         50   \n",
            "3  22400589   GSW   WAS        122        114         55         44   \n",
            "4  22400590   MIN   CLE        117        124         42         47   \n",
            "\n",
            "   TEAM1_AST  TEAM2_AST  TEAM1_STL  ...  TEAM2_BLK  TEAM1_TOV  TEAM2_TOV  \\\n",
            "0         25         22          6  ...          3          9          9   \n",
            "1         23         27         13  ...         10         14         17   \n",
            "2         21         30          8  ...          4          9         17   \n",
            "3         24         24          6  ...          2          9         13   \n",
            "4         27         27          4  ...          1          7          7   \n",
            "\n",
            "   TEAM1_FG_PCT  TEAM2_FG_PCT  TEAM1_3P_PCT  TEAM2_3P_PCT  TEAM1_FT_PCT  \\\n",
            "0         0.500         0.468         0.280         0.273         0.800   \n",
            "1         0.385         0.473         0.288         0.243         0.870   \n",
            "2         0.427         0.530         0.294         0.324         0.727   \n",
            "3         0.469         0.442         0.341         0.489         0.750   \n",
            "4         0.478         0.457         0.395         0.354         0.842   \n",
            "\n",
            "   TEAM2_FT_PCT  OUTCOME  \n",
            "0         0.667        1  \n",
            "1         0.786        0  \n",
            "2         0.696        0  \n",
            "3         0.696        1  \n",
            "4         0.920        0  \n",
            "\n",
            "[5 rows x 22 columns]\n"
          ]
        }
      ]
    },
    {
      "cell_type": "code",
      "source": [
        "# Features (X) and labels (y)\n",
        "X = training_df.drop(columns=['GAME_ID', 'TEAM1', 'TEAM2', 'OUTCOME'])  # Drop non-feature columns\n",
        "y = training_df['OUTCOME']  # Labels (1 if TEAM1 wins, 0 if TEAM2 wins)\n",
        "\n",
        "# Check for missing values\n",
        "print(X.isnull().sum())  # Ensure there are no missing values\n",
        "\n",
        "# If there are missing values, handle them (e.g., fill with mean)\n",
        "X = X.fillna(X.mean())"
      ],
      "metadata": {
        "colab": {
          "base_uri": "https://localhost:8080/"
        },
        "id": "eG1U_rSWpeOM",
        "outputId": "1f21054b-3cba-400d-a312-d2d3bb4122c0"
      },
      "execution_count": null,
      "outputs": [
        {
          "output_type": "stream",
          "name": "stdout",
          "text": [
            "TEAM1_PTS       0\n",
            "TEAM2_PTS       0\n",
            "TEAM1_REB       0\n",
            "TEAM2_REB       0\n",
            "TEAM1_AST       0\n",
            "TEAM2_AST       0\n",
            "TEAM1_STL       0\n",
            "TEAM2_STL       0\n",
            "TEAM1_BLK       0\n",
            "TEAM2_BLK       0\n",
            "TEAM1_TOV       0\n",
            "TEAM2_TOV       0\n",
            "TEAM1_FG_PCT    0\n",
            "TEAM2_FG_PCT    0\n",
            "TEAM1_3P_PCT    0\n",
            "TEAM2_3P_PCT    0\n",
            "TEAM1_FT_PCT    0\n",
            "TEAM2_FT_PCT    0\n",
            "dtype: int64\n"
          ]
        }
      ]
    },
    {
      "cell_type": "code",
      "source": [
        "from sklearn.model_selection import train_test_split\n",
        "\n",
        "# Split the data\n",
        "X_train, X_test, y_train, y_test = train_test_split(X, y, test_size=0.2, random_state=42)\n",
        "\n",
        "print(f\"Training set size: {X_train.shape}\")\n",
        "print(f\"Testing set size: {X_test.shape}\")"
      ],
      "metadata": {
        "colab": {
          "base_uri": "https://localhost:8080/"
        },
        "id": "5lAF9FavprEv",
        "outputId": "94f80c6f-0516-4c9f-bfa8-db79d017cd3a"
      },
      "execution_count": null,
      "outputs": [
        {
          "output_type": "stream",
          "name": "stdout",
          "text": [
            "Training set size: (38, 18)\n",
            "Testing set size: (10, 18)\n"
          ]
        }
      ]
    },
    {
      "cell_type": "code",
      "source": [
        "from sklearn.ensemble import RandomForestClassifier\n",
        "from sklearn.metrics import accuracy_score, classification_report, confusion_matrix\n",
        "\n",
        "# Initialize the model\n",
        "model = RandomForestClassifier(n_estimators=100, random_state=42)\n",
        "\n",
        "# Train the model\n",
        "model.fit(X_train, y_train)\n",
        "\n",
        "# Make predictions on the test set\n",
        "y_pred = model.predict(X_test)\n",
        "\n",
        "# Evaluate the model\n",
        "accuracy = accuracy_score(y_test, y_pred)\n",
        "print(f\"Accuracy: {accuracy:.2f}\")\n",
        "\n",
        "# Classification report\n",
        "print(\"\\nClassification Report:\")\n",
        "print(classification_report(y_test, y_pred))\n",
        "\n",
        "# Confusion matrix\n",
        "print(\"\\nConfusion Matrix:\")\n",
        "print(confusion_matrix(y_test, y_pred))"
      ],
      "metadata": {
        "colab": {
          "base_uri": "https://localhost:8080/"
        },
        "id": "0iWVYSEipuS6",
        "outputId": "6e094db8-58b0-41f4-817e-43b8a14d307e"
      },
      "execution_count": null,
      "outputs": [
        {
          "output_type": "stream",
          "name": "stdout",
          "text": [
            "Accuracy: 0.90\n",
            "\n",
            "Classification Report:\n",
            "              precision    recall  f1-score   support\n",
            "\n",
            "           0       1.00      0.80      0.89         5\n",
            "           1       0.83      1.00      0.91         5\n",
            "\n",
            "    accuracy                           0.90        10\n",
            "   macro avg       0.92      0.90      0.90        10\n",
            "weighted avg       0.92      0.90      0.90        10\n",
            "\n",
            "\n",
            "Confusion Matrix:\n",
            "[[4 1]\n",
            " [0 5]]\n"
          ]
        }
      ]
    },
    {
      "cell_type": "code",
      "source": [
        "import matplotlib.pyplot as plt\n",
        "\n",
        "# Get feature importances\n",
        "importances = model.feature_importances_\n",
        "feature_names = X.columns\n",
        "\n",
        "# Create a DataFrame for visualization\n",
        "feature_importance_df = pd.DataFrame({'Feature': feature_names, 'Importance': importances})\n",
        "feature_importance_df = feature_importance_df.sort_values(by='Importance', ascending=False)\n",
        "\n",
        "# Plot feature importances\n",
        "plt.figure(figsize=(10, 6))\n",
        "plt.barh(feature_importance_df['Feature'], feature_importance_df['Importance'])\n",
        "plt.xlabel('Importance')\n",
        "plt.ylabel('Feature')\n",
        "plt.title('Feature Importance')\n",
        "plt.show()"
      ],
      "metadata": {
        "colab": {
          "base_uri": "https://localhost:8080/",
          "height": 564
        },
        "id": "PQIHDaV3p67k",
        "outputId": "5242a17e-838b-43c8-e9a9-b95193679ba3"
      },
      "execution_count": null,
      "outputs": [
        {
          "output_type": "display_data",
          "data": {
            "text/plain": [
              "<Figure size 1000x600 with 1 Axes>"
            ],
            "image/png": "[encoded data removed]"
          },
          "metadata": {}
        }
      ]
    },
    {
      "cell_type": "code",
      "source": [
        "# Example: New game stats (replace with actual data)\n",
        "new_game_stats = {\n",
        "    'TEAM1_PTS': 110, 'TEAM2_PTS': 105,\n",
        "    'TEAM1_REB': 45, 'TEAM2_REB': 42,\n",
        "    'TEAM1_AST': 25, 'TEAM2_AST': 23,\n",
        "    'TEAM1_STL': 8, 'TEAM2_STL': 7,\n",
        "    'TEAM1_BLK': 5, 'TEAM2_BLK': 4,\n",
        "    'TEAM1_TOV': 12, 'TEAM2_TOV': 14,\n",
        "    'TEAM1_FG_PCT': 0.494, 'TEAM2_FG_PCT': 0.455,\n",
        "    'TEAM1_3P_PCT': 0.380, 'TEAM2_3P_PCT': 0.350,\n",
        "    'TEAM1_FT_PCT': 0.800, 'TEAM2_FT_PCT': 0.750\n",
        "}\n",
        "\n",
        "# Convert to DataFrame\n",
        "new_game_df = pd.DataFrame([new_game_stats])\n",
        "\n",
        "# Make prediction\n",
        "prediction = model.predict_proba(new_game_df)\n",
        "print(f\"Probability of TEAM1 winning: {prediction[0][1]:.2f}\")\n",
        "print(f\"Probability of TEAM2 winning: {prediction[0][0]:.2f}\")"
      ],
      "metadata": {
        "colab": {
          "base_uri": "https://localhost:8080/"
        },
        "id": "r0feHRQFqFa6",
        "outputId": "8b0d03a6-9e63-44bf-fd3e-9a935bc3e2a9"
      },
      "execution_count": null,
      "outputs": [
        {
          "output_type": "stream",
          "name": "stdout",
          "text": [
            "Probability of TEAM1 winning: 0.85\n",
            "Probability of TEAM2 winning: 0.15\n"
          ]
        }
      ]
    },
    {
      "cell_type": "code",
      "source": [
        "import joblib\n",
        "\n",
        "# Save the model\n",
        "joblib.dump(model, 'nba_game_predictor.pkl')\n",
        "\n",
        "# Load the model (in the future)\n",
        "# model = joblib.load('nba_game_predictor.pkl')"
      ],
      "metadata": {
        "colab": {
          "base_uri": "https://localhost:8080/"
        },
        "id": "xLPStGlTqLKp",
        "outputId": "4ffb2164-92c2-443b-eaa2-903e8e264506"
      },
      "execution_count": null,
      "outputs": [
        {
          "output_type": "execute_result",
          "data": {
            "text/plain": [
              "['nba_game_predictor.pkl']"
            ]
          },
          "metadata": {},
          "execution_count": 11
        }
      ]
    },
    {
      "cell_type": "code",
      "source": [
        "!pip install nba_api\n",
        "from nba_api.live.nba.endpoints import scoreboard\n",
        "\n",
        "# Fetch upcoming games\n",
        "scoreboard_data = scoreboard.ScoreBoard()\n",
        "upcoming_games = scoreboard_data.games.get_dict()\n",
        "\n",
        "# Display upcoming games\n",
        "for game in upcoming_games:\n",
        "    home_team = game['homeTeam']['teamName']\n",
        "    away_team = game['awayTeam']['teamName']\n",
        "    game_time = game['gameTimeUTC']\n",
        "    print(f\"{away_team} @ {home_team} - {game_time}\")"
      ],
      "metadata": {
        "colab": {
          "base_uri": "https://localhost:8080/"
        },
        "id": "-mVXX1cQrAKa",
        "outputId": "ca6b0443-09da-4aa7-acb3-9f02e1f3f49e"
      },
      "execution_count": 14,
      "outputs": [
        {
          "output_type": "stream",
          "name": "stdout",
          "text": [
            "Requirement already satisfied: nba_api in /usr/local/lib/python3.11/dist-packages (1.7.0)\n",
            "Requirement already satisfied: numpy<2.0.0,>=1.22.2 in /usr/local/lib/python3.11/dist-packages (from nba_api) (1.26.4)\n",
            "Requirement already satisfied: requests<3.0.0,>=2.32.3 in /usr/local/lib/python3.11/dist-packages (from nba_api) (2.32.3)\n",
            "Requirement already satisfied: charset-normalizer<4,>=2 in /usr/local/lib/python3.11/dist-packages (from requests<3.0.0,>=2.32.3->nba_api) (3.4.1)\n",
            "Requirement already satisfied: idna<4,>=2.5 in /usr/local/lib/python3.11/dist-packages (from requests<3.0.0,>=2.32.3->nba_api) (3.10)\n",
            "Requirement already satisfied: urllib3<3,>=1.21.1 in /usr/local/lib/python3.11/dist-packages (from requests<3.0.0,>=2.32.3->nba_api) (2.3.0)\n",
            "Requirement already satisfied: certifi>=2017.4.17 in /usr/local/lib/python3.11/dist-packages (from requests<3.0.0,>=2.32.3->nba_api) (2024.12.14)\n",
            "Thunder @ Trail Blazers - 2025-01-26T23:00:00Z\n"
          ]
        }
      ]
    },
    {
      "cell_type": "code",
      "source": [
        "# RUN THIS FOR SEASON AVG\n",
        "\n",
        "from nba_api.stats.endpoints import leaguedashteamstats\n",
        "from nba_api.stats.static import teams\n",
        "import pandas as pd\n",
        "\n",
        "# Fetch current season team stats\n",
        "team_stats = leaguedashteamstats.LeagueDashTeamStats(season='2024-25', timeout=30).get_data_frames()[0]\n",
        "\n",
        "# Get all NBA teams\n",
        "nba_teams = teams.get_teams()\n",
        "\n",
        "# Map team IDs to team names\n",
        "team_id_to_name = {team['id']: team['full_name'].split()[-1] for team in nba_teams}\n",
        "\n",
        "# Extract relevant stats for each team and calculate per-game averages\n",
        "team_avg_stats = {}\n",
        "for _, row in team_stats.iterrows():\n",
        "    team_id = row['TEAM_ID']\n",
        "    team_name = team_id_to_name.get(team_id, f\"Unknown Team {team_id}\")\n",
        "    games_played = row['GP']  # Number of games played\n",
        "\n",
        "    # Calculate per-game averages\n",
        "    team_avg_stats[team_name] = {\n",
        "        'PTS': row['PTS'] / games_played,\n",
        "        'REB': row['REB'] / games_played,\n",
        "        'AST': row['AST'] / games_played,\n",
        "        'STL': row['STL'] / games_played,\n",
        "        'BLK': row['BLK'] / games_played,\n",
        "        'TOV': row['TOV'] / games_played,\n",
        "        'FG_PCT': row['FG_PCT'],  # FG% is already a percentage, no need to divide\n",
        "        'FG3_PCT': row['FG3_PCT'],  # 3P% is already a percentage, no need to divide\n",
        "        'FT_PCT': row['FT_PCT']  # FT% is already a percentage, no need to divide\n",
        "    }\n",
        "\n",
        "# Display team average stats\n",
        "for team, stats in team_avg_stats.items():\n",
        "    print(f\"{team}: {stats}\")"
      ],
      "metadata": {
        "colab": {
          "base_uri": "https://localhost:8080/"
        },
        "id": "wc-OyV6X0C6W",
        "outputId": "cfb43920-acc2-4c69-e532-f41d4cebbbcc"
      },
      "execution_count": 15,
      "outputs": [
        {
          "output_type": "stream",
          "name": "stdout",
          "text": [
            "Hawks: {'PTS': 116.28888888888889, 'REB': 45.37777777777778, 'AST': 29.333333333333332, 'STL': 10.444444444444445, 'BLK': 5.266666666666667, 'TOV': 16.2, 'FG_PCT': 0.46, 'FG3_PCT': 0.348, 'FT_PCT': 0.777}\n",
            "Celtics: {'PTS': 117.28260869565217, 'REB': 45.108695652173914, 'AST': 25.543478260869566, 'STL': 7.565217391304348, 'BLK': 5.717391304347826, 'TOV': 11.76086956521739, 'FG_PCT': 0.456, 'FG3_PCT': 0.364, 'FT_PCT': 0.79}\n",
            "Nets: {'PTS': 105.67391304347827, 'REB': 40.45652173913044, 'AST': 24.934782608695652, 'STL': 7.3478260869565215, 'BLK': 3.760869565217391, 'TOV': 15.695652173913043, 'FG_PCT': 0.441, 'FG3_PCT': 0.356, 'FT_PCT': 0.795}\n",
            "Hornets: {'PTS': 107.54761904761905, 'REB': 46.07142857142857, 'AST': 23.928571428571427, 'STL': 8.214285714285714, 'BLK': 4.880952380952381, 'TOV': 15.880952380952381, 'FG_PCT': 0.431, 'FG3_PCT': 0.345, 'FT_PCT': 0.775}\n",
            "Bulls: {'PTS': 116.43478260869566, 'REB': 45.80434782608695, 'AST': 28.891304347826086, 'STL': 7.543478260869565, 'BLK': 4.695652173913044, 'TOV': 15.065217391304348, 'FG_PCT': 0.466, 'FG3_PCT': 0.37, 'FT_PCT': 0.795}\n",
            "Cavaliers: {'PTS': 122.04444444444445, 'REB': 43.91111111111111, 'AST': 29.0, 'STL': 8.4, 'BLK': 4.533333333333333, 'TOV': 13.044444444444444, 'FG_PCT': 0.497, 'FG3_PCT': 0.398, 'FT_PCT': 0.78}\n",
            "Mavericks: {'PTS': 115.08695652173913, 'REB': 44.608695652173914, 'AST': 24.91304347826087, 'STL': 8.152173913043478, 'BLK': 5.826086956521739, 'TOV': 14.456521739130435, 'FG_PCT': 0.477, 'FG3_PCT': 0.368, 'FT_PCT': 0.774}\n",
            "Nuggets: {'PTS': 120.57777777777778, 'REB': 45.733333333333334, 'AST': 31.044444444444444, 'STL': 8.422222222222222, 'BLK': 4.822222222222222, 'TOV': 14.422222222222222, 'FG_PCT': 0.503, 'FG3_PCT': 0.384, 'FT_PCT': 0.764}\n",
            "Pistons: {'PTS': 112.22222222222223, 'REB': 45.022222222222226, 'AST': 25.466666666666665, 'STL': 7.4, 'BLK': 5.155555555555556, 'TOV': 16.0, 'FG_PCT': 0.468, 'FG3_PCT': 0.364, 'FT_PCT': 0.775}\n",
            "Warriors: {'PTS': 111.28888888888889, 'REB': 46.28888888888889, 'AST': 28.6, 'STL': 8.688888888888888, 'BLK': 5.133333333333334, 'TOV': 14.333333333333334, 'FG_PCT': 0.447, 'FG3_PCT': 0.366, 'FT_PCT': 0.717}\n",
            "Rockets: {'PTS': 114.18181818181819, 'REB': 48.38636363636363, 'AST': 22.454545454545453, 'STL': 9.159090909090908, 'BLK': 5.181818181818182, 'TOV': 13.795454545454545, 'FG_PCT': 0.45, 'FG3_PCT': 0.343, 'FT_PCT': 0.753}\n",
            "Pacers: {'PTS': 115.5111111111111, 'REB': 41.77777777777778, 'AST': 28.488888888888887, 'STL': 8.377777777777778, 'BLK': 5.177777777777778, 'TOV': 13.733333333333333, 'FG_PCT': 0.49, 'FG3_PCT': 0.372, 'FT_PCT': 0.773}\n",
            "Clippers: {'PTS': 109.95555555555555, 'REB': 44.31111111111111, 'AST': 24.333333333333332, 'STL': 9.71111111111111, 'BLK': 4.5777777777777775, 'TOV': 16.155555555555555, 'FG_PCT': 0.468, 'FG3_PCT': 0.358, 'FT_PCT': 0.794}\n",
            "Lakers: {'PTS': 111.51162790697674, 'REB': 41.30232558139535, 'AST': 26.511627906976745, 'STL': 7.511627906976744, 'BLK': 4.906976744186046, 'TOV': 13.279069767441861, 'FG_PCT': 0.475, 'FG3_PCT': 0.354, 'FT_PCT': 0.79}\n",
            "Grizzlies: {'PTS': 123.65217391304348, 'REB': 47.608695652173914, 'AST': 29.76086956521739, 'STL': 9.282608695652174, 'BLK': 6.043478260869565, 'TOV': 16.67391304347826, 'FG_PCT': 0.487, 'FG3_PCT': 0.374, 'FT_PCT': 0.772}\n",
            "Heat: {'PTS': 110.6590909090909, 'REB': 43.86363636363637, 'AST': 26.227272727272727, 'STL': 8.340909090909092, 'BLK': 3.8181818181818183, 'TOV': 13.545454545454545, 'FG_PCT': 0.455, 'FG3_PCT': 0.367, 'FT_PCT': 0.795}\n",
            "Bucks: {'PTS': 114.32558139534883, 'REB': 44.348837209302324, 'AST': 25.046511627906977, 'STL': 7.395348837209302, 'BLK': 5.162790697674419, 'TOV': 13.837209302325581, 'FG_PCT': 0.482, 'FG3_PCT': 0.389, 'FT_PCT': 0.739}\n",
            "Timberwolves: {'PTS': 110.6, 'REB': 43.82222222222222, 'AST': 25.155555555555555, 'STL': 7.977777777777778, 'BLK': 4.822222222222222, 'TOV': 15.488888888888889, 'FG_PCT': 0.462, 'FG3_PCT': 0.384, 'FT_PCT': 0.785}\n",
            "Pelicans: {'PTS': 109.21739130434783, 'REB': 42.97826086956522, 'AST': 25.26086956521739, 'STL': 9.478260869565217, 'BLK': 5.521739130434782, 'TOV': 14.434782608695652, 'FG_PCT': 0.444, 'FG3_PCT': 0.344, 'FT_PCT': 0.766}\n",
            "Knicks: {'PTS': 117.21739130434783, 'REB': 43.41304347826087, 'AST': 27.434782608695652, 'STL': 7.739130434782608, 'BLK': 3.8260869565217392, 'TOV': 13.195652173913043, 'FG_PCT': 0.494, 'FG3_PCT': 0.378, 'FT_PCT': 0.808}\n",
            "Thunder: {'PTS': 116.54545454545455, 'REB': 43.36363636363637, 'AST': 26.068181818181817, 'STL': 11.409090909090908, 'BLK': 5.704545454545454, 'TOV': 12.090909090909092, 'FG_PCT': 0.474, 'FG3_PCT': 0.358, 'FT_PCT': 0.826}\n",
            "Magic: {'PTS': 103.76595744680851, 'REB': 41.46808510638298, 'AST': 23.25531914893617, 'STL': 9.23404255319149, 'BLK': 6.297872340425532, 'TOV': 14.957446808510639, 'FG_PCT': 0.439, 'FG3_PCT': 0.305, 'FT_PCT': 0.766}\n",
            "76ers: {'PTS': 108.0909090909091, 'REB': 39.04545454545455, 'AST': 22.34090909090909, 'STL': 9.363636363636363, 'BLK': 4.113636363636363, 'TOV': 13.886363636363637, 'FG_PCT': 0.45, 'FG3_PCT': 0.346, 'FT_PCT': 0.784}\n",
            "Suns: {'PTS': 112.72727272727273, 'REB': 42.70454545454545, 'AST': 27.227272727272727, 'STL': 7.568181818181818, 'BLK': 4.909090909090909, 'TOV': 13.795454545454545, 'FG_PCT': 0.474, 'FG3_PCT': 0.374, 'FT_PCT': 0.799}\n",
            "Blazers: {'PTS': 107.77777777777777, 'REB': 43.37777777777778, 'AST': 23.133333333333333, 'STL': 8.11111111111111, 'BLK': 5.711111111111111, 'TOV': 16.31111111111111, 'FG_PCT': 0.449, 'FG3_PCT': 0.337, 'FT_PCT': 0.764}\n",
            "Kings: {'PTS': 117.02222222222223, 'REB': 44.68888888888889, 'AST': 26.733333333333334, 'STL': 8.044444444444444, 'BLK': 4.733333333333333, 'TOV': 13.022222222222222, 'FG_PCT': 0.474, 'FG3_PCT': 0.35, 'FT_PCT': 0.813}\n",
            "Spurs: {'PTS': 111.97674418604652, 'REB': 45.69767441860465, 'AST': 28.697674418604652, 'STL': 7.488372093023256, 'BLK': 6.930232558139535, 'TOV': 14.790697674418604, 'FG_PCT': 0.458, 'FG3_PCT': 0.348, 'FT_PCT': 0.79}\n",
            "Raptors: {'PTS': 111.31111111111112, 'REB': 44.13333333333333, 'AST': 28.977777777777778, 'STL': 7.822222222222222, 'BLK': 4.555555555555555, 'TOV': 16.133333333333333, 'FG_PCT': 0.471, 'FG3_PCT': 0.35, 'FT_PCT': 0.742}\n",
            "Jazz: {'PTS': 111.30232558139535, 'REB': 45.46511627906977, 'AST': 25.046511627906977, 'STL': 6.837209302325581, 'BLK': 5.023255813953488, 'TOV': 17.906976744186046, 'FG_PCT': 0.456, 'FG3_PCT': 0.355, 'FT_PCT': 0.788}\n",
            "Wizards: {'PTS': 107.77272727272727, 'REB': 44.02272727272727, 'AST': 24.977272727272727, 'STL': 7.863636363636363, 'BLK': 5.181818181818182, 'TOV': 15.954545454545455, 'FG_PCT': 0.438, 'FG3_PCT': 0.333, 'FT_PCT': 0.773}\n"
          ]
        }
      ]
    },
    {
      "cell_type": "code",
      "source": [
        "# RUN THIS FOR LAST 15 GAMES AVG\n",
        "\n",
        "from nba_api.stats.endpoints import teamgamelog\n",
        "from nba_api.stats.static import teams\n",
        "import pandas as pd\n",
        "\n",
        "# Get all NBA teams\n",
        "nba_teams = teams.get_teams()\n",
        "\n",
        "# Initialize a dictionary to store team stats\n",
        "team_last_15_stats = {}\n",
        "\n",
        "# Fetch game logs and calculate last 15 games' averages\n",
        "for team in nba_teams:\n",
        "    team_id = team['id']\n",
        "    team_name = team['full_name'].split()[-1]  # Extract team name (e.g., \"Celtics\")\n",
        "\n",
        "    try:\n",
        "        # Fetch the team's game log\n",
        "        game_log = teamgamelog.TeamGameLog(team_id=team_id, season='2024-25').get_data_frames()[0]\n",
        "\n",
        "        # Ensure the games are sorted by date (most recent first)\n",
        "        game_log['GAME_DATE'] = pd.to_datetime(game_log['GAME_DATE'])\n",
        "        game_log = game_log.sort_values(by='GAME_DATE', ascending=False)\n",
        "\n",
        "        # Get the last 15 games\n",
        "        last_15_games = game_log.head(15)\n",
        "\n",
        "        # Calculate average stats for the last 15 games\n",
        "        team_last_15_stats[team_name] = {\n",
        "            'PTS': last_15_games['PTS'].mean(),\n",
        "            'REB': last_15_games['REB'].mean(),\n",
        "            'AST': last_15_games['AST'].mean(),\n",
        "            'STL': last_15_games['STL'].mean(),\n",
        "            'BLK': last_15_games['BLK'].mean(),\n",
        "            'TOV': last_15_games['TOV'].mean(),\n",
        "            'FG_PCT': last_15_games['FG_PCT'].mean(),\n",
        "            'FG3_PCT': last_15_games['FG3_PCT'].mean(),\n",
        "            'FT_PCT': last_15_games['FT_PCT'].mean()\n",
        "        }\n",
        "        print(f\"Processed stats for {team_name}\")\n",
        "    except Exception as e:\n",
        "        print(f\"Error fetching stats for {team_name}: {e}\")\n",
        "\n",
        "# Display the last 15 games' averages\n",
        "for team, stats in team_last_15_stats.items():\n",
        "    print(f\"{team}: {stats}\")"
      ],
      "metadata": {
        "colab": {
          "base_uri": "https://localhost:8080/"
        },
        "id": "0ptC7FUbm24k",
        "outputId": "b20f1636-1f29-4fa5-f8b9-6147a564b3f0"
      },
      "execution_count": 18,
      "outputs": [
        {
          "output_type": "stream",
          "name": "stderr",
          "text": [
            "<ipython-input-18-8010162ec053>:23: UserWarning: Could not infer format, so each element will be parsed individually, falling back to `dateutil`. To ensure parsing is consistent and as-expected, please specify a format.\n",
            "  game_log['GAME_DATE'] = pd.to_datetime(game_log['GAME_DATE'])\n",
            "<ipython-input-18-8010162ec053>:23: UserWarning: Could not infer format, so each element will be parsed individually, falling back to `dateutil`. To ensure parsing is consistent and as-expected, please specify a format.\n",
            "  game_log['GAME_DATE'] = pd.to_datetime(game_log['GAME_DATE'])\n",
            "<ipython-input-18-8010162ec053>:23: UserWarning: Could not infer format, so each element will be parsed individually, falling back to `dateutil`. To ensure parsing is consistent and as-expected, please specify a format.\n",
            "  game_log['GAME_DATE'] = pd.to_datetime(game_log['GAME_DATE'])\n",
            "<ipython-input-18-8010162ec053>:23: UserWarning: Could not infer format, so each element will be parsed individually, falling back to `dateutil`. To ensure parsing is consistent and as-expected, please specify a format.\n",
            "  game_log['GAME_DATE'] = pd.to_datetime(game_log['GAME_DATE'])\n"
          ]
        },
        {
          "output_type": "stream",
          "name": "stdout",
          "text": [
            "Processed stats for Hawks\n",
            "Processed stats for Celtics\n",
            "Processed stats for Cavaliers\n",
            "Processed stats for Pelicans\n"
          ]
        },
        {
          "output_type": "stream",
          "name": "stderr",
          "text": [
            "<ipython-input-18-8010162ec053>:23: UserWarning: Could not infer format, so each element will be parsed individually, falling back to `dateutil`. To ensure parsing is consistent and as-expected, please specify a format.\n",
            "  game_log['GAME_DATE'] = pd.to_datetime(game_log['GAME_DATE'])\n",
            "<ipython-input-18-8010162ec053>:23: UserWarning: Could not infer format, so each element will be parsed individually, falling back to `dateutil`. To ensure parsing is consistent and as-expected, please specify a format.\n",
            "  game_log['GAME_DATE'] = pd.to_datetime(game_log['GAME_DATE'])\n",
            "<ipython-input-18-8010162ec053>:23: UserWarning: Could not infer format, so each element will be parsed individually, falling back to `dateutil`. To ensure parsing is consistent and as-expected, please specify a format.\n",
            "  game_log['GAME_DATE'] = pd.to_datetime(game_log['GAME_DATE'])\n",
            "<ipython-input-18-8010162ec053>:23: UserWarning: Could not infer format, so each element will be parsed individually, falling back to `dateutil`. To ensure parsing is consistent and as-expected, please specify a format.\n",
            "  game_log['GAME_DATE'] = pd.to_datetime(game_log['GAME_DATE'])\n"
          ]
        },
        {
          "output_type": "stream",
          "name": "stdout",
          "text": [
            "Processed stats for Bulls\n",
            "Processed stats for Mavericks\n",
            "Processed stats for Nuggets\n",
            "Processed stats for Warriors\n"
          ]
        },
        {
          "output_type": "stream",
          "name": "stderr",
          "text": [
            "<ipython-input-18-8010162ec053>:23: UserWarning: Could not infer format, so each element will be parsed individually, falling back to `dateutil`. To ensure parsing is consistent and as-expected, please specify a format.\n",
            "  game_log['GAME_DATE'] = pd.to_datetime(game_log['GAME_DATE'])\n",
            "<ipython-input-18-8010162ec053>:23: UserWarning: Could not infer format, so each element will be parsed individually, falling back to `dateutil`. To ensure parsing is consistent and as-expected, please specify a format.\n",
            "  game_log['GAME_DATE'] = pd.to_datetime(game_log['GAME_DATE'])\n",
            "<ipython-input-18-8010162ec053>:23: UserWarning: Could not infer format, so each element will be parsed individually, falling back to `dateutil`. To ensure parsing is consistent and as-expected, please specify a format.\n",
            "  game_log['GAME_DATE'] = pd.to_datetime(game_log['GAME_DATE'])\n",
            "<ipython-input-18-8010162ec053>:23: UserWarning: Could not infer format, so each element will be parsed individually, falling back to `dateutil`. To ensure parsing is consistent and as-expected, please specify a format.\n",
            "  game_log['GAME_DATE'] = pd.to_datetime(game_log['GAME_DATE'])\n"
          ]
        },
        {
          "output_type": "stream",
          "name": "stdout",
          "text": [
            "Processed stats for Rockets\n",
            "Processed stats for Clippers\n",
            "Processed stats for Lakers\n",
            "Processed stats for Heat\n"
          ]
        },
        {
          "output_type": "stream",
          "name": "stderr",
          "text": [
            "<ipython-input-18-8010162ec053>:23: UserWarning: Could not infer format, so each element will be parsed individually, falling back to `dateutil`. To ensure parsing is consistent and as-expected, please specify a format.\n",
            "  game_log['GAME_DATE'] = pd.to_datetime(game_log['GAME_DATE'])\n",
            "<ipython-input-18-8010162ec053>:23: UserWarning: Could not infer format, so each element will be parsed individually, falling back to `dateutil`. To ensure parsing is consistent and as-expected, please specify a format.\n",
            "  game_log['GAME_DATE'] = pd.to_datetime(game_log['GAME_DATE'])\n",
            "<ipython-input-18-8010162ec053>:23: UserWarning: Could not infer format, so each element will be parsed individually, falling back to `dateutil`. To ensure parsing is consistent and as-expected, please specify a format.\n",
            "  game_log['GAME_DATE'] = pd.to_datetime(game_log['GAME_DATE'])\n"
          ]
        },
        {
          "output_type": "stream",
          "name": "stdout",
          "text": [
            "Processed stats for Bucks\n",
            "Processed stats for Timberwolves\n",
            "Processed stats for Nets\n",
            "Error fetching stats for Knicks: HTTPSConnectionPool(host='stats.nba.com', port=443): Read timed out. (read timeout=30)\n",
            "Error fetching stats for Magic: HTTPSConnectionPool(host='stats.nba.com', port=443): Read timed out. (read timeout=30)\n",
            "Error fetching stats for Pacers: HTTPSConnectionPool(host='stats.nba.com', port=443): Read timed out. (read timeout=30)\n",
            "Error fetching stats for 76ers: HTTPSConnectionPool(host='stats.nba.com', port=443): Read timed out. (read timeout=30)\n",
            "Processed stats for Suns\n",
            "Processed stats for Blazers\n"
          ]
        },
        {
          "output_type": "stream",
          "name": "stderr",
          "text": [
            "<ipython-input-18-8010162ec053>:23: UserWarning: Could not infer format, so each element will be parsed individually, falling back to `dateutil`. To ensure parsing is consistent and as-expected, please specify a format.\n",
            "  game_log['GAME_DATE'] = pd.to_datetime(game_log['GAME_DATE'])\n",
            "<ipython-input-18-8010162ec053>:23: UserWarning: Could not infer format, so each element will be parsed individually, falling back to `dateutil`. To ensure parsing is consistent and as-expected, please specify a format.\n",
            "  game_log['GAME_DATE'] = pd.to_datetime(game_log['GAME_DATE'])\n",
            "<ipython-input-18-8010162ec053>:23: UserWarning: Could not infer format, so each element will be parsed individually, falling back to `dateutil`. To ensure parsing is consistent and as-expected, please specify a format.\n",
            "  game_log['GAME_DATE'] = pd.to_datetime(game_log['GAME_DATE'])\n",
            "<ipython-input-18-8010162ec053>:23: UserWarning: Could not infer format, so each element will be parsed individually, falling back to `dateutil`. To ensure parsing is consistent and as-expected, please specify a format.\n",
            "  game_log['GAME_DATE'] = pd.to_datetime(game_log['GAME_DATE'])\n"
          ]
        },
        {
          "output_type": "stream",
          "name": "stdout",
          "text": [
            "Processed stats for Kings\n",
            "Processed stats for Spurs\n",
            "Processed stats for Thunder\n",
            "Processed stats for Raptors\n"
          ]
        },
        {
          "output_type": "stream",
          "name": "stderr",
          "text": [
            "<ipython-input-18-8010162ec053>:23: UserWarning: Could not infer format, so each element will be parsed individually, falling back to `dateutil`. To ensure parsing is consistent and as-expected, please specify a format.\n",
            "  game_log['GAME_DATE'] = pd.to_datetime(game_log['GAME_DATE'])\n",
            "<ipython-input-18-8010162ec053>:23: UserWarning: Could not infer format, so each element will be parsed individually, falling back to `dateutil`. To ensure parsing is consistent and as-expected, please specify a format.\n",
            "  game_log['GAME_DATE'] = pd.to_datetime(game_log['GAME_DATE'])\n",
            "<ipython-input-18-8010162ec053>:23: UserWarning: Could not infer format, so each element will be parsed individually, falling back to `dateutil`. To ensure parsing is consistent and as-expected, please specify a format.\n",
            "  game_log['GAME_DATE'] = pd.to_datetime(game_log['GAME_DATE'])\n",
            "<ipython-input-18-8010162ec053>:23: UserWarning: Could not infer format, so each element will be parsed individually, falling back to `dateutil`. To ensure parsing is consistent and as-expected, please specify a format.\n",
            "  game_log['GAME_DATE'] = pd.to_datetime(game_log['GAME_DATE'])\n"
          ]
        },
        {
          "output_type": "stream",
          "name": "stdout",
          "text": [
            "Processed stats for Jazz\n",
            "Processed stats for Grizzlies\n",
            "Processed stats for Wizards\n",
            "Processed stats for Pistons\n",
            "Processed stats for Hornets\n",
            "Hawks: {'PTS': 116.06666666666666, 'REB': 44.0, 'AST': 28.8, 'STL': 11.0, 'BLK': 5.0, 'TOV': 14.066666666666666, 'FG_PCT': 0.4547333333333334, 'FG3_PCT': 0.3421333333333333, 'FT_PCT': 0.7707999999999999}\n",
            "Celtics: {'PTS': 112.4, 'REB': 44.2, 'AST': 25.466666666666665, 'STL': 7.666666666666667, 'BLK': 6.133333333333334, 'TOV': 10.933333333333334, 'FG_PCT': 0.4547333333333334, 'FG3_PCT': 0.3600666666666667, 'FT_PCT': 0.7561999999999999}\n",
            "Cavaliers: {'PTS': 122.53333333333333, 'REB': 44.666666666666664, 'AST': 29.933333333333334, 'STL': 6.933333333333334, 'BLK': 4.733333333333333, 'TOV': 12.333333333333334, 'FG_PCT': 0.4826666666666667, 'FG3_PCT': 0.3809333333333333, 'FT_PCT': 0.7846666666666666}\n",
            "Pelicans: {'PTS': 116.06666666666666, 'REB': 42.666666666666664, 'AST': 27.533333333333335, 'STL': 9.466666666666667, 'BLK': 6.133333333333334, 'TOV': 12.266666666666667, 'FG_PCT': 0.4570666666666667, 'FG3_PCT': 0.36406666666666665, 'FT_PCT': 0.7860666666666667}\n",
            "Bulls: {'PTS': 113.86666666666666, 'REB': 48.6, 'AST': 28.066666666666666, 'STL': 7.8, 'BLK': 4.866666666666666, 'TOV': 13.933333333333334, 'FG_PCT': 0.45686666666666664, 'FG3_PCT': 0.35833333333333334, 'FT_PCT': 0.7921333333333334}\n",
            "Mavericks: {'PTS': 110.06666666666666, 'REB': 43.333333333333336, 'AST': 23.8, 'STL': 7.666666666666667, 'BLK': 6.533333333333333, 'TOV': 14.4, 'FG_PCT': 0.464, 'FG3_PCT': 0.35086666666666666, 'FT_PCT': 0.7606}\n",
            "Nuggets: {'PTS': 121.53333333333333, 'REB': 47.6, 'AST': 31.0, 'STL': 7.866666666666666, 'BLK': 5.266666666666667, 'TOV': 12.733333333333333, 'FG_PCT': 0.5102, 'FG3_PCT': 0.3842666666666667, 'FT_PCT': 0.7774}\n",
            "Warriors: {'PTS': 109.6, 'REB': 44.8, 'AST': 28.333333333333332, 'STL': 8.066666666666666, 'BLK': 4.866666666666666, 'TOV': 13.4, 'FG_PCT': 0.4473333333333333, 'FG3_PCT': 0.3675333333333334, 'FT_PCT': 0.7382666666666666}\n",
            "Rockets: {'PTS': 116.6, 'REB': 46.06666666666667, 'AST': 22.2, 'STL': 10.266666666666667, 'BLK': 4.266666666666667, 'TOV': 13.066666666666666, 'FG_PCT': 0.46593333333333337, 'FG3_PCT': 0.3821333333333334, 'FT_PCT': 0.7361333333333332}\n",
            "Clippers: {'PTS': 110.66666666666667, 'REB': 44.4, 'AST': 23.866666666666667, 'STL': 9.333333333333334, 'BLK': 5.0, 'TOV': 14.466666666666667, 'FG_PCT': 0.4741333333333334, 'FG3_PCT': 0.33386666666666664, 'FT_PCT': 0.8052}\n",
            "Lakers: {'PTS': 112.33333333333333, 'REB': 40.8, 'AST': 27.6, 'STL': 6.6, 'BLK': 4.6, 'TOV': 11.6, 'FG_PCT': 0.4898, 'FG3_PCT': 0.3762, 'FT_PCT': 0.8198000000000001}\n",
            "Heat: {'PTS': 109.46666666666667, 'REB': 45.06666666666667, 'AST': 27.6, 'STL': 6.933333333333334, 'BLK': 4.333333333333333, 'TOV': 12.8, 'FG_PCT': 0.4631333333333333, 'FG3_PCT': 0.35933333333333334, 'FT_PCT': 0.8300666666666667}\n",
            "Bucks: {'PTS': 117.26666666666667, 'REB': 46.46666666666667, 'AST': 26.266666666666666, 'STL': 7.066666666666666, 'BLK': 4.8, 'TOV': 12.533333333333333, 'FG_PCT': 0.48880000000000007, 'FG3_PCT': 0.3927333333333333, 'FT_PCT': 0.7548}\n",
            "Timberwolves: {'PTS': 113.33333333333333, 'REB': 46.0, 'AST': 25.066666666666666, 'STL': 6.4, 'BLK': 5.133333333333334, 'TOV': 14.2, 'FG_PCT': 0.4690666666666666, 'FG3_PCT': 0.40306666666666674, 'FT_PCT': 0.7912}\n",
            "Nets: {'PTS': 100.73333333333333, 'REB': 43.0, 'AST': 24.066666666666666, 'STL': 7.6, 'BLK': 3.8, 'TOV': 14.8, 'FG_PCT': 0.4172, 'FG3_PCT': 0.3192, 'FT_PCT': 0.7662}\n",
            "Suns: {'PTS': 111.66666666666667, 'REB': 42.733333333333334, 'AST': 27.333333333333332, 'STL': 7.133333333333334, 'BLK': 5.4, 'TOV': 12.8, 'FG_PCT': 0.4782666666666667, 'FG3_PCT': 0.3579333333333333, 'FT_PCT': 0.7965999999999999}\n",
            "Blazers: {'PTS': 108.06666666666666, 'REB': 43.8, 'AST': 23.8, 'STL': 7.8, 'BLK': 5.666666666666667, 'TOV': 15.6, 'FG_PCT': 0.46520000000000006, 'FG3_PCT': 0.34646666666666665, 'FT_PCT': 0.7458666666666666}\n",
            "Kings: {'PTS': 121.46666666666667, 'REB': 46.93333333333333, 'AST': 28.8, 'STL': 7.733333333333333, 'BLK': 4.666666666666667, 'TOV': 11.733333333333333, 'FG_PCT': 0.4736, 'FG3_PCT': 0.3628666666666667, 'FT_PCT': 0.8354666666666668}\n",
            "Spurs: {'PTS': 112.33333333333333, 'REB': 47.2, 'AST': 28.866666666666667, 'STL': 6.933333333333334, 'BLK': 7.2, 'TOV': 13.866666666666667, 'FG_PCT': 0.4610000000000001, 'FG3_PCT': 0.35446666666666665, 'FT_PCT': 0.7898000000000001}\n",
            "Thunder: {'PTS': 119.06666666666666, 'REB': 42.06666666666667, 'AST': 27.466666666666665, 'STL': 10.4, 'BLK': 4.666666666666667, 'TOV': 12.2, 'FG_PCT': 0.4932, 'FG3_PCT': 0.382, 'FT_PCT': 0.8534}\n",
            "Raptors: {'PTS': 109.8, 'REB': 42.46666666666667, 'AST': 29.733333333333334, 'STL': 8.133333333333333, 'BLK': 4.333333333333333, 'TOV': 15.4, 'FG_PCT': 0.48626666666666657, 'FG3_PCT': 0.36926666666666663, 'FT_PCT': 0.7198666666666665}\n",
            "Jazz: {'PTS': 113.2, 'REB': 46.733333333333334, 'AST': 25.933333333333334, 'STL': 6.733333333333333, 'BLK': 4.733333333333333, 'TOV': 15.8, 'FG_PCT': 0.4549999999999999, 'FG3_PCT': 0.34146666666666664, 'FT_PCT': 0.7906666666666669}\n",
            "Grizzlies: {'PTS': 123.53333333333333, 'REB': 45.4, 'AST': 27.933333333333334, 'STL': 9.6, 'BLK': 4.933333333333334, 'TOV': 15.133333333333333, 'FG_PCT': 0.4852, 'FG3_PCT': 0.37593333333333334, 'FT_PCT': 0.7838666666666666}\n",
            "Wizards: {'PTS': 106.46666666666667, 'REB': 44.06666666666667, 'AST': 25.466666666666665, 'STL': 7.8, 'BLK': 3.933333333333333, 'TOV': 14.466666666666667, 'FG_PCT': 0.4288, 'FG3_PCT': 0.3425333333333333, 'FT_PCT': 0.7496666666666666}\n",
            "Pistons: {'PTS': 112.93333333333334, 'REB': 45.733333333333334, 'AST': 24.866666666666667, 'STL': 8.333333333333334, 'BLK': 4.933333333333334, 'TOV': 14.866666666666667, 'FG_PCT': 0.4718, 'FG3_PCT': 0.36999999999999994, 'FT_PCT': 0.7862666666666668}\n",
            "Hornets: {'PTS': 108.66666666666667, 'REB': 47.13333333333333, 'AST': 24.733333333333334, 'STL': 8.533333333333333, 'BLK': 4.8, 'TOV': 15.066666666666666, 'FG_PCT': 0.43653333333333333, 'FG3_PCT': 0.33753333333333335, 'FT_PCT': 0.7715333333333334}\n"
          ]
        },
        {
          "output_type": "stream",
          "name": "stderr",
          "text": [
            "<ipython-input-18-8010162ec053>:23: UserWarning: Could not infer format, so each element will be parsed individually, falling back to `dateutil`. To ensure parsing is consistent and as-expected, please specify a format.\n",
            "  game_log['GAME_DATE'] = pd.to_datetime(game_log['GAME_DATE'])\n",
            "<ipython-input-18-8010162ec053>:23: UserWarning: Could not infer format, so each element will be parsed individually, falling back to `dateutil`. To ensure parsing is consistent and as-expected, please specify a format.\n",
            "  game_log['GAME_DATE'] = pd.to_datetime(game_log['GAME_DATE'])\n",
            "<ipython-input-18-8010162ec053>:23: UserWarning: Could not infer format, so each element will be parsed individually, falling back to `dateutil`. To ensure parsing is consistent and as-expected, please specify a format.\n",
            "  game_log['GAME_DATE'] = pd.to_datetime(game_log['GAME_DATE'])\n"
          ]
        }
      ]
    },
    {
      "cell_type": "code",
      "source": [
        "import pickle\n",
        "\n",
        "# Load team_avg_stats from the file\n",
        "with open('team_avg_stats.pkl', 'rb') as f:\n",
        "    team_avg_stats = pickle.load(f)\n",
        "\n",
        "# Display the loaded data\n",
        "print(\"Loaded team_avg_stats:\")\n",
        "for team, stats in team_avg_stats.items():\n",
        "    print(f\"{team}: {stats}\")"
      ],
      "metadata": {
        "colab": {
          "base_uri": "https://localhost:8080/"
        },
        "id": "AMX8glEPZH36",
        "outputId": "d41f38da-0093-49ae-e011-80d67361b2ba"
      },
      "execution_count": 16,
      "outputs": [
        {
          "output_type": "stream",
          "name": "stdout",
          "text": [
            "Loaded team_avg_stats:\n",
            "Hawks: {'PTS': 116.28888888888889, 'REB': 45.37777777777778, 'AST': 29.333333333333332, 'STL': 10.444444444444445, 'BLK': 5.266666666666667, 'TOV': 16.2, 'FG_PCT': 0.46, 'FG3_PCT': 0.348, 'FT_PCT': 0.777}\n",
            "Celtics: {'PTS': 117.28260869565217, 'REB': 45.108695652173914, 'AST': 25.543478260869566, 'STL': 7.565217391304348, 'BLK': 5.717391304347826, 'TOV': 11.76086956521739, 'FG_PCT': 0.456, 'FG3_PCT': 0.364, 'FT_PCT': 0.79}\n",
            "Nets: {'PTS': 105.67391304347827, 'REB': 40.45652173913044, 'AST': 24.934782608695652, 'STL': 7.3478260869565215, 'BLK': 3.760869565217391, 'TOV': 15.695652173913043, 'FG_PCT': 0.441, 'FG3_PCT': 0.356, 'FT_PCT': 0.795}\n",
            "Hornets: {'PTS': 107.54761904761905, 'REB': 46.07142857142857, 'AST': 23.928571428571427, 'STL': 8.214285714285714, 'BLK': 4.880952380952381, 'TOV': 15.880952380952381, 'FG_PCT': 0.431, 'FG3_PCT': 0.345, 'FT_PCT': 0.775}\n",
            "Bulls: {'PTS': 116.43478260869566, 'REB': 45.80434782608695, 'AST': 28.891304347826086, 'STL': 7.543478260869565, 'BLK': 4.695652173913044, 'TOV': 15.065217391304348, 'FG_PCT': 0.466, 'FG3_PCT': 0.37, 'FT_PCT': 0.795}\n",
            "Cavaliers: {'PTS': 122.04444444444445, 'REB': 43.91111111111111, 'AST': 29.0, 'STL': 8.4, 'BLK': 4.533333333333333, 'TOV': 13.044444444444444, 'FG_PCT': 0.497, 'FG3_PCT': 0.398, 'FT_PCT': 0.78}\n",
            "Mavericks: {'PTS': 115.08695652173913, 'REB': 44.608695652173914, 'AST': 24.91304347826087, 'STL': 8.152173913043478, 'BLK': 5.826086956521739, 'TOV': 14.456521739130435, 'FG_PCT': 0.477, 'FG3_PCT': 0.368, 'FT_PCT': 0.774}\n",
            "Nuggets: {'PTS': 120.57777777777778, 'REB': 45.733333333333334, 'AST': 31.044444444444444, 'STL': 8.422222222222222, 'BLK': 4.822222222222222, 'TOV': 14.422222222222222, 'FG_PCT': 0.503, 'FG3_PCT': 0.384, 'FT_PCT': 0.764}\n",
            "Pistons: {'PTS': 112.22222222222223, 'REB': 45.022222222222226, 'AST': 25.466666666666665, 'STL': 7.4, 'BLK': 5.155555555555556, 'TOV': 16.0, 'FG_PCT': 0.468, 'FG3_PCT': 0.364, 'FT_PCT': 0.775}\n",
            "Warriors: {'PTS': 111.28888888888889, 'REB': 46.28888888888889, 'AST': 28.6, 'STL': 8.688888888888888, 'BLK': 5.133333333333334, 'TOV': 14.333333333333334, 'FG_PCT': 0.447, 'FG3_PCT': 0.366, 'FT_PCT': 0.717}\n",
            "Rockets: {'PTS': 114.18181818181819, 'REB': 48.38636363636363, 'AST': 22.454545454545453, 'STL': 9.159090909090908, 'BLK': 5.181818181818182, 'TOV': 13.795454545454545, 'FG_PCT': 0.45, 'FG3_PCT': 0.343, 'FT_PCT': 0.753}\n",
            "Pacers: {'PTS': 115.5111111111111, 'REB': 41.77777777777778, 'AST': 28.488888888888887, 'STL': 8.377777777777778, 'BLK': 5.177777777777778, 'TOV': 13.733333333333333, 'FG_PCT': 0.49, 'FG3_PCT': 0.372, 'FT_PCT': 0.773}\n",
            "Clippers: {'PTS': 109.95555555555555, 'REB': 44.31111111111111, 'AST': 24.333333333333332, 'STL': 9.71111111111111, 'BLK': 4.5777777777777775, 'TOV': 16.155555555555555, 'FG_PCT': 0.468, 'FG3_PCT': 0.358, 'FT_PCT': 0.794}\n",
            "Lakers: {'PTS': 111.51162790697674, 'REB': 41.30232558139535, 'AST': 26.511627906976745, 'STL': 7.511627906976744, 'BLK': 4.906976744186046, 'TOV': 13.279069767441861, 'FG_PCT': 0.475, 'FG3_PCT': 0.354, 'FT_PCT': 0.79}\n",
            "Grizzlies: {'PTS': 123.65217391304348, 'REB': 47.608695652173914, 'AST': 29.76086956521739, 'STL': 9.282608695652174, 'BLK': 6.043478260869565, 'TOV': 16.67391304347826, 'FG_PCT': 0.487, 'FG3_PCT': 0.374, 'FT_PCT': 0.772}\n",
            "Heat: {'PTS': 110.6590909090909, 'REB': 43.86363636363637, 'AST': 26.227272727272727, 'STL': 8.340909090909092, 'BLK': 3.8181818181818183, 'TOV': 13.545454545454545, 'FG_PCT': 0.455, 'FG3_PCT': 0.367, 'FT_PCT': 0.795}\n",
            "Bucks: {'PTS': 114.32558139534883, 'REB': 44.348837209302324, 'AST': 25.046511627906977, 'STL': 7.395348837209302, 'BLK': 5.162790697674419, 'TOV': 13.837209302325581, 'FG_PCT': 0.482, 'FG3_PCT': 0.389, 'FT_PCT': 0.739}\n",
            "Timberwolves: {'PTS': 110.6, 'REB': 43.82222222222222, 'AST': 25.155555555555555, 'STL': 7.977777777777778, 'BLK': 4.822222222222222, 'TOV': 15.488888888888889, 'FG_PCT': 0.462, 'FG3_PCT': 0.384, 'FT_PCT': 0.785}\n",
            "Pelicans: {'PTS': 109.21739130434783, 'REB': 42.97826086956522, 'AST': 25.26086956521739, 'STL': 9.478260869565217, 'BLK': 5.521739130434782, 'TOV': 14.434782608695652, 'FG_PCT': 0.444, 'FG3_PCT': 0.344, 'FT_PCT': 0.766}\n",
            "Knicks: {'PTS': 117.21739130434783, 'REB': 43.41304347826087, 'AST': 27.434782608695652, 'STL': 7.739130434782608, 'BLK': 3.8260869565217392, 'TOV': 13.195652173913043, 'FG_PCT': 0.494, 'FG3_PCT': 0.378, 'FT_PCT': 0.808}\n",
            "Thunder: {'PTS': 116.54545454545455, 'REB': 43.36363636363637, 'AST': 26.068181818181817, 'STL': 11.409090909090908, 'BLK': 5.704545454545454, 'TOV': 12.090909090909092, 'FG_PCT': 0.474, 'FG3_PCT': 0.358, 'FT_PCT': 0.826}\n",
            "Magic: {'PTS': 103.76595744680851, 'REB': 41.46808510638298, 'AST': 23.25531914893617, 'STL': 9.23404255319149, 'BLK': 6.297872340425532, 'TOV': 14.957446808510639, 'FG_PCT': 0.439, 'FG3_PCT': 0.305, 'FT_PCT': 0.766}\n",
            "76ers: {'PTS': 108.0909090909091, 'REB': 39.04545454545455, 'AST': 22.34090909090909, 'STL': 9.363636363636363, 'BLK': 4.113636363636363, 'TOV': 13.886363636363637, 'FG_PCT': 0.45, 'FG3_PCT': 0.346, 'FT_PCT': 0.784}\n",
            "Suns: {'PTS': 112.72727272727273, 'REB': 42.70454545454545, 'AST': 27.227272727272727, 'STL': 7.568181818181818, 'BLK': 4.909090909090909, 'TOV': 13.795454545454545, 'FG_PCT': 0.474, 'FG3_PCT': 0.374, 'FT_PCT': 0.799}\n",
            "Blazers: {'PTS': 107.77777777777777, 'REB': 43.37777777777778, 'AST': 23.133333333333333, 'STL': 8.11111111111111, 'BLK': 5.711111111111111, 'TOV': 16.31111111111111, 'FG_PCT': 0.449, 'FG3_PCT': 0.337, 'FT_PCT': 0.764}\n",
            "Kings: {'PTS': 117.02222222222223, 'REB': 44.68888888888889, 'AST': 26.733333333333334, 'STL': 8.044444444444444, 'BLK': 4.733333333333333, 'TOV': 13.022222222222222, 'FG_PCT': 0.474, 'FG3_PCT': 0.35, 'FT_PCT': 0.813}\n",
            "Spurs: {'PTS': 111.97674418604652, 'REB': 45.69767441860465, 'AST': 28.697674418604652, 'STL': 7.488372093023256, 'BLK': 6.930232558139535, 'TOV': 14.790697674418604, 'FG_PCT': 0.458, 'FG3_PCT': 0.348, 'FT_PCT': 0.79}\n",
            "Raptors: {'PTS': 111.31111111111112, 'REB': 44.13333333333333, 'AST': 28.977777777777778, 'STL': 7.822222222222222, 'BLK': 4.555555555555555, 'TOV': 16.133333333333333, 'FG_PCT': 0.471, 'FG3_PCT': 0.35, 'FT_PCT': 0.742}\n",
            "Jazz: {'PTS': 111.30232558139535, 'REB': 45.46511627906977, 'AST': 25.046511627906977, 'STL': 6.837209302325581, 'BLK': 5.023255813953488, 'TOV': 17.906976744186046, 'FG_PCT': 0.456, 'FG3_PCT': 0.355, 'FT_PCT': 0.788}\n",
            "Wizards: {'PTS': 107.77272727272727, 'REB': 44.02272727272727, 'AST': 24.977272727272727, 'STL': 7.863636363636363, 'BLK': 5.181818181818182, 'TOV': 15.954545454545455, 'FG_PCT': 0.438, 'FG3_PCT': 0.333, 'FT_PCT': 0.773}\n"
          ]
        }
      ]
    },
    {
      "cell_type": "code",
      "source": [
        "import pandas as pd\n",
        "\n",
        "# Display upcoming games\n",
        "counter = 0\n",
        "for game in upcoming_games:\n",
        "    home_team = game['homeTeam']['teamName']\n",
        "    away_team = game['awayTeam']['teamName']\n",
        "    print(f\"{counter}. {away_team} @ {home_team}\")\n",
        "    counter += 1\n",
        "\n",
        "# Example: Prepare data for an upcoming game\n",
        "upcoming_game = upcoming_games[0]  # First upcoming game\n",
        "home_team = upcoming_game['homeTeam']['teamName']\n",
        "away_team = upcoming_game['awayTeam']['teamName']\n",
        "\n",
        "home_team = 'Wizards'\n",
        "away_team = 'Mavericks'\n",
        "\n",
        "# Get average stats for both teams\n",
        "home_stats = team_last_15_stats[home_team]\n",
        "away_stats = team_last_15_stats[away_team]\n",
        "\n",
        "# Create a row of features\n",
        "game_features = {\n",
        "    'TEAM1_PTS': home_stats['PTS'], 'TEAM2_PTS': away_stats['PTS'],\n",
        "    'TEAM1_REB': home_stats['REB'], 'TEAM2_REB': away_stats['REB'],\n",
        "    'TEAM1_AST': home_stats['AST'], 'TEAM2_AST': away_stats['AST'],\n",
        "    'TEAM1_STL': home_stats['STL'], 'TEAM2_STL': away_stats['STL'],\n",
        "    'TEAM1_BLK': home_stats['BLK'], 'TEAM2_BLK': away_stats['BLK'],\n",
        "    'TEAM1_TOV': home_stats['TOV'], 'TEAM2_TOV': away_stats['TOV'],\n",
        "    'TEAM1_FG_PCT': home_stats['FG_PCT'], 'TEAM2_FG_PCT': away_stats['FG_PCT'],\n",
        "    'TEAM1_3P_PCT': home_stats['FG3_PCT'], 'TEAM2_3P_PCT': away_stats['FG3_PCT'],\n",
        "    'TEAM1_FT_PCT': home_stats['FT_PCT'], 'TEAM2_FT_PCT': away_stats['FT_PCT']\n",
        "}\n",
        "\n",
        "# Convert to DataFrame\n",
        "game_df = pd.DataFrame([game_features])\n",
        "\n",
        "# Load the trained model (if not already loaded)\n",
        "import joblib\n",
        "model = joblib.load('nba_game_predictor.pkl')\n",
        "\n",
        "# Make prediction\n",
        "prediction = model.predict_proba(game_df)\n",
        "print(f\"Probability of {home_team} winning: {prediction[0][1]:.2f}\")\n",
        "print(f\"Probability of {away_team} winning: {prediction[0][0]:.2f}\")"
      ],
      "metadata": {
        "colab": {
          "base_uri": "https://localhost:8080/"
        },
        "id": "q3nrT7h1sEpS",
        "outputId": "c52ecbff-9bed-430b-d2a6-37132450b52d"
      },
      "execution_count": 40,
      "outputs": [
        {
          "output_type": "stream",
          "name": "stdout",
          "text": [
            "0. Thunder @ Trail Blazers\n",
            "Probability of Wizards winning: 0.59\n",
            "Probability of Mavericks winning: 0.41\n"
          ]
        }
      ]
    },
    {
      "cell_type": "code",
      "source": [
        "# TOOL: AMERICAN ODDS TO %\n",
        "def odds_to_probability(odds):\n",
        "    if odds > 0:\n",
        "        probability = 100 / (odds + 100)\n",
        "    else:\n",
        "        probability = -odds / (-odds + 100)\n",
        "    return probability\n",
        "\n",
        "# Example usage\n",
        "positive_odds = 455\n",
        "negative_odds = -625\n",
        "\n",
        "positive_probability = odds_to_probability(positive_odds)\n",
        "negative_probability = odds_to_probability(negative_odds)\n",
        "\n",
        "print(f\"Probability for + odds: {positive_probability:.4f} or {positive_probability*100:.2f}%\")\n",
        "print(f\"Probability for - odds: {negative_probability:.4f} or {negative_probability*100:.2f}%\")"
      ],
      "metadata": {
        "colab": {
          "base_uri": "https://localhost:8080/"
        },
        "id": "NEfzVD7h-HD_",
        "outputId": "faa34447-51ce-4b25-b36d-f830d477ede8"
      },
      "execution_count": 41,
      "outputs": [
        {
          "output_type": "stream",
          "name": "stdout",
          "text": [
            "Probability for + odds: 0.1802 or 18.02%\n",
            "Probability for - odds: 0.8621 or 86.21%\n"
          ]
        }
      ]
    },
    {
      "cell_type": "code",
      "source": [
        "# TOOL: % TO AMERICAN ODDS\n",
        "def probability_to_american_odds(probability):\n",
        "    \"\"\"Convert a probability to American odds format.\"\"\"\n",
        "    if probability < 0 or probability > 1:\n",
        "        raise ValueError(\"Probability must be between 0 and 1.\")\n",
        "\n",
        "    if probability < 0.5:\n",
        "        odds = (100 / probability) - 100\n",
        "        return f\"+{int(round(odds))}\"\n",
        "    else:\n",
        "        odds = (probability / (1 - probability)) * 100\n",
        "        return f\"-{int(round(odds))}\"\n",
        "\n",
        "# Example usage\n",
        "probability = 0.37\n",
        "american_odds = probability_to_american_odds(probability)\n",
        "print(f\"American Odds: {american_odds}\")\n",
        "probability = 0.63\n",
        "american_odds = probability_to_american_odds(probability)\n",
        "print(f\"American Odds: {american_odds}\")"
      ],
      "metadata": {
        "colab": {
          "base_uri": "https://localhost:8080/"
        },
        "id": "oYkycwCfX50Z",
        "outputId": "729cd2bb-39c3-4906-8f04-cad664608709"
      },
      "execution_count": 20,
      "outputs": [
        {
          "output_type": "stream",
          "name": "stdout",
          "text": [
            "American Odds: +170\n",
            "American Odds: -170\n"
          ]
        }
      ]
    },
    {
      "cell_type": "code",
      "source": [
        "import pickle\n",
        "\n",
        "# Save team_avg_stats to a file using pickle\n",
        "with open('team_avg_stats.pkl', 'wb') as f:\n",
        "    pickle.dump(team_avg_stats, f)\n",
        "\n",
        "print(\"team_avg_stats saved to 'team_avg_stats.pkl'\")"
      ],
      "metadata": {
        "id": "mqo4RgMC-Vet",
        "colab": {
          "base_uri": "https://localhost:8080/"
        },
        "outputId": "5ced52c7-f0cc-4dfc-c083-ed231331e80c"
      },
      "execution_count": 17,
      "outputs": [
        {
          "output_type": "stream",
          "name": "stdout",
          "text": [
            "team_avg_stats saved to 'team_avg_stats.pkl'\n"
          ]
        }
      ]
    }
  ],
  "metadata": {
    "colab": {
      "provenance": []
    },
    "kernelspec": {
      "display_name": "Python 3",
      "name": "python3"
    }
  },
  "nbformat": 4,
  "nbformat_minor": 0
}